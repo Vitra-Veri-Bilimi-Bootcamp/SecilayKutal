{
  "nbformat": 4,
  "nbformat_minor": 0,
  "metadata": {
    "colab": {
      "name": "Python Numpy Rehberi.ipynb",
      "provenance": [],
      "collapsed_sections": []
    },
    "kernelspec": {
      "name": "python3",
      "display_name": "Python 3"
    },
    "language_info": {
      "name": "python"
    }
  },
  "cells": [
    {
      "cell_type": "markdown",
      "metadata": {
        "id": "ouv4oWvBN53C"
      },
      "source": [
        "**NOT:** Bu notebook [**Patika**][P] & [**Vitra**][E] işbirliği ile **6 Temmuz - 29 Ağustos** tarihleri arasında gerçekleşen **Veri Bilimi Bootcamp** kapsamında [**Patika.dev**][P] üzerinden takip edilen [**Python-Numpy**][PN] derslerinin notlarından oluşmaktadır. \n",
        "\n",
        "[E]: <https://eczacibasikariyer.com.tr/>\n",
        "[P]: <https://www.patika.dev/>\n",
        "[PN]:<https://app.patika.dev/egitimler/veri-bilimi-patikasi/python-numpy>\n",
        "\n",
        "---"
      ]
    },
    {
      "cell_type": "markdown",
      "metadata": {
        "id": "YpyS7wgBO2Dm"
      },
      "source": [
        "# Numpy Nedir? / Neden Kullanılır?\n",
        "\n",
        "Kısaca bir giriş yapalım."
      ]
    },
    {
      "cell_type": "markdown",
      "metadata": {
        "id": "QaTesuNJPTXU"
      },
      "source": [
        "<p align= \"justify\"> Numpy, hızlı nümerik işlemlerin yapılabilmesini sağlayan, C tabanlı bir Python kütüphanesidir. Python'ın makine diline yakın olmamasından dolayı nümerik işlemler yüksek hızda gerçekleşememektedir. Bu nedenler makine diline daha yakın bir dil olan C ile yazılmış Numpy tercih edilmektedir. </p>"
      ]
    },
    {
      "cell_type": "markdown",
      "metadata": {
        "id": "SMFJTCe-QjZ0"
      },
      "source": [
        "> Python kodu içerisinde kullanılabilmesi için öncelikle kütüphanenin import edilmesi gerekmektedir. Aşağıdaki kod satırı ile kütüphaneyi import edebiliriz."
      ]
    },
    {
      "cell_type": "code",
      "metadata": {
        "id": "5MsZxbqJQs8j"
      },
      "source": [
        "import numpy as np "
      ],
      "execution_count": null,
      "outputs": []
    },
    {
      "cell_type": "markdown",
      "metadata": {
        "id": "ceGN2y3yQaUo"
      },
      "source": [
        "---\n",
        "---\n",
        "# Numpy Array\n",
        "\n",
        "Nedir ve nasıl oluşturulur?"
      ]
    },
    {
      "cell_type": "markdown",
      "metadata": {
        "id": "VDeUSa5YVytY"
      },
      "source": [
        "---\n",
        "## Nedir?"
      ]
    },
    {
      "cell_type": "markdown",
      "metadata": {
        "id": "RUai30-oQcWp"
      },
      "source": [
        "* <p align=\"justify\"> Numpy'ı hızlı nümerik işlemler yapabilmek için kullandığı veri tipleridir. Yapı olarak Python'da bulunan list veri tiplerine benzemektedir.</p>\n",
        "\n",
        "\n",
        "* <p align=\"justify\">Python listlerin aksine içerisinde yalnızca tek bir veri türü barındırabilmektedir. Başka bir deyişle bir numpy array içerisinde aynı anda hem int hem float veri barındıramaz.</p>"
      ]
    },
    {
      "cell_type": "markdown",
      "metadata": {
        "id": "efuXIRT0V0oe"
      },
      "source": [
        "---\n",
        "## Array tanımlama"
      ]
    },
    {
      "cell_type": "markdown",
      "metadata": {
        "id": "sOVgr5z5Rbu8"
      },
      "source": [
        "> Farklı veri türleri içeren çeşitli numpy arrayler tanımlayalım:"
      ]
    },
    {
      "cell_type": "code",
      "metadata": {
        "colab": {
          "base_uri": "https://localhost:8080/"
        },
        "id": "hK5f1EnQN3dc",
        "outputId": "244f4905-29c3-4126-ed13-2ad6612d0253"
      },
      "source": [
        "#@markdown Integer\n",
        "arr = np.array([1, 2, 3, 4])\n",
        "arr"
      ],
      "execution_count": null,
      "outputs": [
        {
          "output_type": "execute_result",
          "data": {
            "text/plain": [
              "array([1, 2, 3, 4])"
            ]
          },
          "metadata": {
            "tags": []
          },
          "execution_count": 212
        }
      ]
    },
    {
      "cell_type": "code",
      "metadata": {
        "colab": {
          "base_uri": "https://localhost:8080/"
        },
        "id": "8aXJdrj2RrNw",
        "outputId": "5974d9ac-220a-4f51-ebf6-b2cb981ca3ea"
      },
      "source": [
        "#@markdown String\n",
        "arr = np.array([\"n\", \"u\", \"m\", \"p\", \"y\"])\n",
        "arr"
      ],
      "execution_count": null,
      "outputs": [
        {
          "output_type": "execute_result",
          "data": {
            "text/plain": [
              "array(['n', 'u', 'm', 'p', 'y'], dtype='<U1')"
            ]
          },
          "metadata": {
            "tags": []
          },
          "execution_count": 213
        }
      ]
    },
    {
      "cell_type": "markdown",
      "metadata": {
        "id": "YcJX9qh6Rqd9"
      },
      "source": [
        "> Array içerisinde birden fazla farklı veri tipi tanımlanmaya çalışılırsa tüm elemanları içerisinde bulunan en genel veri tipi olarak ele alınır."
      ]
    },
    {
      "cell_type": "code",
      "metadata": {
        "colab": {
          "base_uri": "https://localhost:8080/"
        },
        "id": "y18t7ccKSG-2",
        "outputId": "269ec406-0236-45a9-cd4a-1d6db693d2b7"
      },
      "source": [
        "#@markdown  Burada en genel veri tipi string olduğundan tüm elemanlar string olarak ele alınır. \n",
        "arr = np.array([\"n\", \"u\", \"m\", \"p\", \"y\", 1, 2, 3])\n",
        "arr"
      ],
      "execution_count": null,
      "outputs": [
        {
          "output_type": "execute_result",
          "data": {
            "text/plain": [
              "array(['n', 'u', 'm', 'p', 'y', '1', '2', '3'], dtype='<U1')"
            ]
          },
          "metadata": {
            "tags": []
          },
          "execution_count": 214
        }
      ]
    },
    {
      "cell_type": "code",
      "metadata": {
        "colab": {
          "base_uri": "https://localhost:8080/"
        },
        "id": "u8oc06lqUA6q",
        "outputId": "a16308dc-a15b-43e0-8e42-e2519e1f60b6"
      },
      "source": [
        "#@markdown Burada en genel veri tipi float olduğundan tüm elemanlar float olarak ele alınır.\n",
        "arr = np.array([1, 2, 4.5, 8.2, 5])\n",
        "arr"
      ],
      "execution_count": null,
      "outputs": [
        {
          "output_type": "execute_result",
          "data": {
            "text/plain": [
              "array([1. , 2. , 4.5, 8.2, 5. ])"
            ]
          },
          "metadata": {
            "tags": []
          },
          "execution_count": 215
        }
      ]
    },
    {
      "cell_type": "code",
      "metadata": {
        "colab": {
          "base_uri": "https://localhost:8080/"
        },
        "id": "78pBLqxcaTWg",
        "outputId": "f32121e1-22ac-4d59-ec33-061b91ac8724"
      },
      "source": [
        "#@title Sıra sende!\n",
        "#@markdown Aşağıdaki alana elemanlarını tanımla ve arrayini incele.\n",
        "elements = 1, 2, 4.5, 8.2, \"e\" #@param {type:\"raw\"}\n",
        "arr = np.array(elements)\n",
        "arr"
      ],
      "execution_count": null,
      "outputs": [
        {
          "output_type": "execute_result",
          "data": {
            "text/plain": [
              "array(['1', '2', '4.5', '8.2', 'e'], dtype='<U32')"
            ]
          },
          "metadata": {
            "tags": []
          },
          "execution_count": 216
        }
      ]
    },
    {
      "cell_type": "markdown",
      "metadata": {
        "id": "EMjiHLm_V66M"
      },
      "source": [
        "---\n",
        "### Array'in tipini manuel olarak belirleme"
      ]
    },
    {
      "cell_type": "markdown",
      "metadata": {
        "id": "Y9f191lAWRBA"
      },
      "source": [
        "Yukarıda bir array tanımladığımızda array'in tipinin içerisinde bulundurduğu veri tiplerine göre otomatik olarak şekillendirdiğini gördük. Ancak bir arrayin tipini aslında arrayi tanımlarken de belirleyebiliriz."
      ]
    },
    {
      "cell_type": "code",
      "metadata": {
        "colab": {
          "base_uri": "https://localhost:8080/"
        },
        "id": "8Mum779xW4QN",
        "outputId": "85a13001-db80-4316-ced8-8bc9e00a79cb"
      },
      "source": [
        "#@markdown Yukarıda yaptığımız bir örnek üzerinden gidelim. Bu örnekte eğer herhangi bir tip tanımlaması yapmazsak verinin float olarak ele alındığını gördük. Ancak burada özellikle \"int\" tanımladığımız için veriler int olarak ele alınacak.\n",
        "arr = np.array([1, 2, 4.5, 8.2, 5], dtype = \"int32\")\n",
        "arr"
      ],
      "execution_count": null,
      "outputs": [
        {
          "output_type": "execute_result",
          "data": {
            "text/plain": [
              "array([1, 2, 4, 8, 5], dtype=int32)"
            ]
          },
          "metadata": {
            "tags": []
          },
          "execution_count": 217
        }
      ]
    },
    {
      "cell_type": "code",
      "metadata": {
        "colab": {
          "base_uri": "https://localhost:8080/"
        },
        "id": "dQAmZ9EfXbJf",
        "outputId": "14d225c5-1a24-4aea-9980-6ddeb577fe17"
      },
      "source": [
        "#@markdown Verinin içerisinde bulunmayan bir veri tipini de arrayin tipi olarak verebiliriz. Yine aynı örnek üzerinden gidelim, ancak bu sefer veri tipimizi \"string\" olarak verelim\n",
        "arr = np.array([1, 2, 4.5, 8.2, 5], dtype = \"str\")\n",
        "arr"
      ],
      "execution_count": null,
      "outputs": [
        {
          "output_type": "execute_result",
          "data": {
            "text/plain": [
              "array(['1', '2', '4.5', '8.2', '5'], dtype='<U3')"
            ]
          },
          "metadata": {
            "tags": []
          },
          "execution_count": 218
        }
      ]
    },
    {
      "cell_type": "markdown",
      "metadata": {
        "id": "UTlKCAB0Xk-q"
      },
      "source": [
        "> **ANCAK** bu dönüşümler yapılırken asıl veri tipinin dönüştürülen veri tipinde bir karşılığı olmasına dikkat edilmelidir."
      ]
    },
    {
      "cell_type": "code",
      "metadata": {
        "colab": {
          "base_uri": "https://localhost:8080/",
          "height": 195
        },
        "id": "VxRL4e__XxX2",
        "outputId": "367b3e32-1aba-4048-c4dc-8d074e2ba472"
      },
      "source": [
        "#@markdown Karakterden oluşan stringlerin int veri tipinde karşılıkları yoktur. Bu nedenle hata alırız.\n",
        "arr = np.array([\"n\", \"u\", \"m\", \"p\", \"y\", 1, 2, 3], dtype = \"int32\")\n",
        "arr"
      ],
      "execution_count": null,
      "outputs": [
        {
          "output_type": "error",
          "ename": "ValueError",
          "evalue": "ignored",
          "traceback": [
            "\u001b[0;31m---------------------------------------------------------------------------\u001b[0m",
            "\u001b[0;31mValueError\u001b[0m                                Traceback (most recent call last)",
            "\u001b[0;32m<ipython-input-219-7d8e44e70258>\u001b[0m in \u001b[0;36m<module>\u001b[0;34m()\u001b[0m\n\u001b[1;32m      1\u001b[0m \u001b[0;31m#@markdown Karakterden oluşan stringlerin int veri tipinde karşılıkları yoktur. Bu nedenle hata alırız.\u001b[0m\u001b[0;34m\u001b[0m\u001b[0;34m\u001b[0m\u001b[0;34m\u001b[0m\u001b[0m\n\u001b[0;32m----> 2\u001b[0;31m \u001b[0marr\u001b[0m \u001b[0;34m=\u001b[0m \u001b[0mnp\u001b[0m\u001b[0;34m.\u001b[0m\u001b[0marray\u001b[0m\u001b[0;34m(\u001b[0m\u001b[0;34m[\u001b[0m\u001b[0;34m\"n\"\u001b[0m\u001b[0;34m,\u001b[0m \u001b[0;34m\"u\"\u001b[0m\u001b[0;34m,\u001b[0m \u001b[0;34m\"m\"\u001b[0m\u001b[0;34m,\u001b[0m \u001b[0;34m\"p\"\u001b[0m\u001b[0;34m,\u001b[0m \u001b[0;34m\"y\"\u001b[0m\u001b[0;34m,\u001b[0m \u001b[0;36m1\u001b[0m\u001b[0;34m,\u001b[0m \u001b[0;36m2\u001b[0m\u001b[0;34m,\u001b[0m \u001b[0;36m3\u001b[0m\u001b[0;34m]\u001b[0m\u001b[0;34m,\u001b[0m \u001b[0mdtype\u001b[0m \u001b[0;34m=\u001b[0m \u001b[0;34m\"int32\"\u001b[0m\u001b[0;34m)\u001b[0m\u001b[0;34m\u001b[0m\u001b[0;34m\u001b[0m\u001b[0m\n\u001b[0m\u001b[1;32m      3\u001b[0m \u001b[0marr\u001b[0m\u001b[0;34m\u001b[0m\u001b[0;34m\u001b[0m\u001b[0m\n",
            "\u001b[0;31mValueError\u001b[0m: invalid literal for int() with base 10: 'n'"
          ]
        }
      ]
    },
    {
      "cell_type": "code",
      "metadata": {
        "colab": {
          "base_uri": "https://localhost:8080/"
        },
        "id": "z21rOXaMX4Yz",
        "outputId": "f42f57ef-ae75-4b63-8df2-ff5da9f544a8"
      },
      "source": [
        "#@markdown Burada her bir sayı string olarak verilmiştir bu sayıların inte dönüşümü sağlanabilir.\n",
        "arr = np.array([\"1\", \"3\", \"4\"], dtype = \"int32\")\n",
        "arr"
      ],
      "execution_count": null,
      "outputs": [
        {
          "output_type": "execute_result",
          "data": {
            "text/plain": [
              "array([1, 3, 4], dtype=int32)"
            ]
          },
          "metadata": {
            "tags": []
          },
          "execution_count": 220
        }
      ]
    },
    {
      "cell_type": "code",
      "metadata": {
        "colab": {
          "base_uri": "https://localhost:8080/",
          "height": 195
        },
        "id": "mLav7UuqE8sd",
        "outputId": "5dc6cf77-76e5-45ee-f689-6cd5b09fdb38"
      },
      "source": [
        "#@markdown Ancak burada string verilen sayıları inte dönüştüremeyiz.\n",
        "arr = np.array([\"1.5\", \"3.5\", \"4.5\"], dtype = \"int32\")\n",
        "arr"
      ],
      "execution_count": null,
      "outputs": [
        {
          "output_type": "error",
          "ename": "ValueError",
          "evalue": "ignored",
          "traceback": [
            "\u001b[0;31m---------------------------------------------------------------------------\u001b[0m",
            "\u001b[0;31mValueError\u001b[0m                                Traceback (most recent call last)",
            "\u001b[0;32m<ipython-input-221-f4a91f578e96>\u001b[0m in \u001b[0;36m<module>\u001b[0;34m()\u001b[0m\n\u001b[1;32m      1\u001b[0m \u001b[0;31m#@markdown Ancak burada string verilen sayıları inte dönüştüremeyiz.\u001b[0m\u001b[0;34m\u001b[0m\u001b[0;34m\u001b[0m\u001b[0;34m\u001b[0m\u001b[0m\n\u001b[0;32m----> 2\u001b[0;31m \u001b[0marr\u001b[0m \u001b[0;34m=\u001b[0m \u001b[0mnp\u001b[0m\u001b[0;34m.\u001b[0m\u001b[0marray\u001b[0m\u001b[0;34m(\u001b[0m\u001b[0;34m[\u001b[0m\u001b[0;34m\"1.5\"\u001b[0m\u001b[0;34m,\u001b[0m \u001b[0;34m\"3.5\"\u001b[0m\u001b[0;34m,\u001b[0m \u001b[0;34m\"4.5\"\u001b[0m\u001b[0;34m]\u001b[0m\u001b[0;34m,\u001b[0m \u001b[0mdtype\u001b[0m \u001b[0;34m=\u001b[0m \u001b[0;34m\"int32\"\u001b[0m\u001b[0;34m)\u001b[0m\u001b[0;34m\u001b[0m\u001b[0;34m\u001b[0m\u001b[0m\n\u001b[0m\u001b[1;32m      3\u001b[0m \u001b[0marr\u001b[0m\u001b[0;34m\u001b[0m\u001b[0;34m\u001b[0m\u001b[0m\n",
            "\u001b[0;31mValueError\u001b[0m: invalid literal for int() with base 10: '1.5'"
          ]
        }
      ]
    },
    {
      "cell_type": "code",
      "metadata": {
        "colab": {
          "base_uri": "https://localhost:8080/"
        },
        "id": "_e2FGVX7FCKM",
        "outputId": "fec24d46-6095-4fb7-f643-b875b7b15c60"
      },
      "source": [
        "#@markdown Bir üst hücredeki dönüşümü sağlamak için önce string tipindeki floata dönüştürmeli sonrasında float verilen değeri inte dönüştürmeliyiz. \n",
        "arr = np.array([\"1.5\", \"3.5\", \"4.5\"], dtype = \"float\")\n",
        "arr.astype(\"int\")\n",
        "arr"
      ],
      "execution_count": null,
      "outputs": [
        {
          "output_type": "execute_result",
          "data": {
            "text/plain": [
              "array([1.5, 3.5, 4.5])"
            ]
          },
          "metadata": {
            "tags": []
          },
          "execution_count": 222
        }
      ]
    },
    {
      "cell_type": "markdown",
      "metadata": {
        "id": "G41EemO3fs7d"
      },
      "source": [
        "---\n",
        "---\n",
        "# Farklı yöntemlerle array oluşturma\n",
        "\n",
        "Elemanları elle tanımlamak yerine çeşitli built-in fonksiyonlar kullanacağız."
      ]
    },
    {
      "cell_type": "markdown",
      "metadata": {
        "id": "JOjUhGofZYBv"
      },
      "source": [
        "---\n",
        "## Zero array (0'lardan oluşan array)"
      ]
    },
    {
      "cell_type": "markdown",
      "metadata": {
        "id": "D7bl6fUIbdwU"
      },
      "source": [
        "Tanımlama şekli 1:\n",
        "- tek boyutlu\n",
        "```python\n",
        "np.zeros(eleman_sayisi)\n",
        "```\n",
        "\n"
      ]
    },
    {
      "cell_type": "code",
      "metadata": {
        "colab": {
          "base_uri": "https://localhost:8080/"
        },
        "id": "gW-AFn5obY8l",
        "outputId": "d669b35d-9a34-4f07-e1f0-bead94c77308"
      },
      "source": [
        "#@markdown 10 elemanlı sıfırdan oluşan bir array tanımlayalım.\n",
        "np.zeros(10)"
      ],
      "execution_count": null,
      "outputs": [
        {
          "output_type": "execute_result",
          "data": {
            "text/plain": [
              "array([0., 0., 0., 0., 0., 0., 0., 0., 0., 0.])"
            ]
          },
          "metadata": {
            "tags": []
          },
          "execution_count": 223
        }
      ]
    },
    {
      "cell_type": "markdown",
      "metadata": {
        "id": "SB6rkp3knFHi"
      },
      "source": [
        "Tanımlama şekli 2:\n",
        "- 2 boyutlu\n",
        "```python\n",
        "np.zeros((satir_sayisi, sutun_sayisi))\n",
        "```\n",
        "veya \n",
        "```python\n",
        "np.zeros([satir_sayisi, sutun_sayisi])\n",
        "```\n"
      ]
    },
    {
      "cell_type": "code",
      "metadata": {
        "colab": {
          "base_uri": "https://localhost:8080/"
        },
        "id": "ZlDpECjMnSrJ",
        "outputId": "b79e39da-62e9-49cc-893b-fa647adb25ab"
      },
      "source": [
        "#@markdown 3 satır 5 sütuna sahip bir zero array tanımlayalım. Tanımlama esnasında satır, sütun sayısını bir **tuple** içerisinde verdiğimize dikkat edin. \n",
        "np.zeros((3, 5))"
      ],
      "execution_count": null,
      "outputs": [
        {
          "output_type": "execute_result",
          "data": {
            "text/plain": [
              "array([[0., 0., 0., 0., 0.],\n",
              "       [0., 0., 0., 0., 0.],\n",
              "       [0., 0., 0., 0., 0.]])"
            ]
          },
          "metadata": {
            "tags": []
          },
          "execution_count": 224
        }
      ]
    },
    {
      "cell_type": "code",
      "metadata": {
        "colab": {
          "base_uri": "https://localhost:8080/"
        },
        "id": "mJV81NpanjWT",
        "outputId": "d694432f-cc43-40bf-9821-6dfb47961549"
      },
      "source": [
        "#@markdown Bu sefer de 1 satır 3 sütuna sahip bir zero array tanımlayalım. Tanımlama esnasında satır, sütun sayısını bir **liste** içerisinde verdiğimize dikkat edin.\n",
        "np.zeros([1, 3])"
      ],
      "execution_count": null,
      "outputs": [
        {
          "output_type": "execute_result",
          "data": {
            "text/plain": [
              "array([[0., 0., 0.]])"
            ]
          },
          "metadata": {
            "tags": []
          },
          "execution_count": 225
        }
      ]
    },
    {
      "cell_type": "markdown",
      "metadata": {
        "id": "fuunAbFJnpsz"
      },
      "source": [
        "Tanımlama şekli 3:\n",
        "- çok boyutlu"
      ]
    },
    {
      "cell_type": "code",
      "metadata": {
        "colab": {
          "base_uri": "https://localhost:8080/"
        },
        "id": "ONKVDc27nsW9",
        "outputId": "2d86b99a-114f-4211-f1df-b4c86efb09c2"
      },
      "source": [
        "#@markdown 3 boyutlu bir array tanımlayalım.\n",
        "np.zeros([4, 3, 2]) "
      ],
      "execution_count": null,
      "outputs": [
        {
          "output_type": "execute_result",
          "data": {
            "text/plain": [
              "array([[[0., 0.],\n",
              "        [0., 0.],\n",
              "        [0., 0.]],\n",
              "\n",
              "       [[0., 0.],\n",
              "        [0., 0.],\n",
              "        [0., 0.]],\n",
              "\n",
              "       [[0., 0.],\n",
              "        [0., 0.],\n",
              "        [0., 0.]],\n",
              "\n",
              "       [[0., 0.],\n",
              "        [0., 0.],\n",
              "        [0., 0.]]])"
            ]
          },
          "metadata": {
            "tags": []
          },
          "execution_count": 226
        }
      ]
    },
    {
      "cell_type": "markdown",
      "metadata": {
        "id": "uInwdutsoCKs"
      },
      "source": [
        "> 0'lardan oluşan bir array tanımlarken de array tipini belirleyebiliriz."
      ]
    },
    {
      "cell_type": "code",
      "metadata": {
        "colab": {
          "base_uri": "https://localhost:8080/"
        },
        "id": "vgPa4aPLnz_o",
        "outputId": "ecf7a000-17da-43c8-f9f5-d80faed6e69f"
      },
      "source": [
        "#@markdown Boolean veri tipinde sıfır değeri False değerine eşittir.\n",
        "np.zeros((4, 2), dtype= \"bool\")"
      ],
      "execution_count": null,
      "outputs": [
        {
          "output_type": "execute_result",
          "data": {
            "text/plain": [
              "array([[False, False],\n",
              "       [False, False],\n",
              "       [False, False],\n",
              "       [False, False]])"
            ]
          },
          "metadata": {
            "tags": []
          },
          "execution_count": 227
        }
      ]
    },
    {
      "cell_type": "code",
      "metadata": {
        "colab": {
          "base_uri": "https://localhost:8080/"
        },
        "id": "3KkuP4QpoNgD",
        "outputId": "379ef049-023d-4545-dbb4-5352f7c69b53"
      },
      "source": [
        "#@markdown String veri tipinde sıfır değeri boş stringlere eşit olacaktır.\n",
        "np.zeros((4, 2), dtype= \"str\")"
      ],
      "execution_count": null,
      "outputs": [
        {
          "output_type": "execute_result",
          "data": {
            "text/plain": [
              "array([['', ''],\n",
              "       ['', ''],\n",
              "       ['', ''],\n",
              "       ['', '']], dtype='<U1')"
            ]
          },
          "metadata": {
            "tags": []
          },
          "execution_count": 228
        }
      ]
    },
    {
      "cell_type": "markdown",
      "metadata": {
        "id": "Jd96tun_p60L"
      },
      "source": [
        "---\n",
        "## Belirli bir elemandan array oluşturma"
      ]
    },
    {
      "cell_type": "markdown",
      "metadata": {
        "id": "9FfyiIy7qFm8"
      },
      "source": [
        "Tanımlama şekli:\n",
        "```python\n",
        "np.full(array_boyutu, eleman)\n",
        "```"
      ]
    },
    {
      "cell_type": "code",
      "metadata": {
        "colab": {
          "base_uri": "https://localhost:8080/"
        },
        "id": "t9qIE-1NqA6X",
        "outputId": "b8bc7265-79bd-4532-e0df-07f993d347a8"
      },
      "source": [
        "#@markdown 3 satır 2 sütuna sahip ve 158 integer değerinden oluşan bir array tanımlayalım.\n",
        "np.full((3,2), 158)"
      ],
      "execution_count": null,
      "outputs": [
        {
          "output_type": "execute_result",
          "data": {
            "text/plain": [
              "array([[158, 158],\n",
              "       [158, 158],\n",
              "       [158, 158]])"
            ]
          },
          "metadata": {
            "tags": []
          },
          "execution_count": 229
        }
      ]
    },
    {
      "cell_type": "code",
      "metadata": {
        "colab": {
          "base_uri": "https://localhost:8080/"
        },
        "id": "-bIKW3XJqRKa",
        "outputId": "6c2b3f33-288a-42e8-d1aa-c32374cb329b"
      },
      "source": [
        "#@markdown 3 adet \"abc\" stringinden oluşan bir array tanımlayalım.\n",
        "np.full(3, \"abc\")"
      ],
      "execution_count": null,
      "outputs": [
        {
          "output_type": "execute_result",
          "data": {
            "text/plain": [
              "array(['abc', 'abc', 'abc'], dtype='<U3')"
            ]
          },
          "metadata": {
            "tags": []
          },
          "execution_count": 230
        }
      ]
    },
    {
      "cell_type": "markdown",
      "metadata": {
        "id": "yJCBqo_QqzfD"
      },
      "source": [
        "> Bu şekilde array oluştururken de veri tipini belirleyebiliriz."
      ]
    },
    {
      "cell_type": "code",
      "metadata": {
        "colab": {
          "base_uri": "https://localhost:8080/"
        },
        "id": "yZeocsG_qprO",
        "outputId": "2222c48e-ed60-426e-bdbc-ac61309ff8bb"
      },
      "source": [
        "#@markdown 3 adet 92 değerinden oluşan ancak veri tipi string olan bir array tanımlayalım.\n",
        "np.full(3, 92, dtype=\"str\")"
      ],
      "execution_count": null,
      "outputs": [
        {
          "output_type": "execute_result",
          "data": {
            "text/plain": [
              "array(['9', '9', '9'], dtype='<U1')"
            ]
          },
          "metadata": {
            "tags": []
          },
          "execution_count": 231
        }
      ]
    },
    {
      "cell_type": "markdown",
      "metadata": {
        "id": "YAaYpFnPXqOe"
      },
      "source": [
        "---\n",
        "## Ardışık sayılardan array oluşturma"
      ]
    },
    {
      "cell_type": "markdown",
      "metadata": {
        "id": "CHUkkpO8X8KA"
      },
      "source": [
        "> Çalışma şekli Python'da bulunan `range()` fonksiyonuna benzemektedir. Başlangıç olarak verilen sayıyı dahil, bitiş olarak verilen sayısı hariç olarak ele alır. "
      ]
    },
    {
      "cell_type": "markdown",
      "metadata": {
        "id": "cQ8ThqcJXyxB"
      },
      "source": [
        "Tanımlama şekli:\n",
        "```python\n",
        "np.arange(baslangic(dahil), bitis(hariç), adim_sayisi)\n",
        "```"
      ]
    },
    {
      "cell_type": "code",
      "metadata": {
        "id": "0b9WmxiJq9_7",
        "colab": {
          "base_uri": "https://localhost:8080/"
        },
        "outputId": "132e8b71-cff6-48d6-cce7-91f59ffe4da1"
      },
      "source": [
        "#@markdown 1'den 10'a kadar sayılardan oluşan br array tanımlayalım. Ancak burada 10 değerinin array elemanlarına dahil edilmediğine dikkat edelim.\n",
        "np.arange(1, 10)"
      ],
      "execution_count": null,
      "outputs": [
        {
          "output_type": "execute_result",
          "data": {
            "text/plain": [
              "array([1, 2, 3, 4, 5, 6, 7, 8, 9])"
            ]
          },
          "metadata": {
            "tags": []
          },
          "execution_count": 232
        }
      ]
    },
    {
      "cell_type": "code",
      "metadata": {
        "colab": {
          "base_uri": "https://localhost:8080/"
        },
        "id": "ZgLU2bSaYavx",
        "outputId": "42b5c6b7-f2d4-4ec0-f2a8-7226ecea031f"
      },
      "source": [
        "#@markdown 4'er atlayan bir sayı dizisi deneyelim\n",
        "np.arange(0, 16, 4) "
      ],
      "execution_count": null,
      "outputs": [
        {
          "output_type": "execute_result",
          "data": {
            "text/plain": [
              "array([ 0,  4,  8, 12])"
            ]
          },
          "metadata": {
            "tags": []
          },
          "execution_count": 233
        }
      ]
    },
    {
      "cell_type": "code",
      "metadata": {
        "colab": {
          "base_uri": "https://localhost:8080/"
        },
        "id": "c2f6HatCYLnI",
        "outputId": "355303eb-45e8-4c3d-cefc-817405040af0"
      },
      "source": [
        "# Geriye doğru 5'er atlayan bir sayı dizisi deneyelim.\n",
        "np.arange(25, 5, -5)"
      ],
      "execution_count": null,
      "outputs": [
        {
          "output_type": "execute_result",
          "data": {
            "text/plain": [
              "array([25, 20, 15, 10])"
            ]
          },
          "metadata": {
            "tags": []
          },
          "execution_count": 234
        }
      ]
    },
    {
      "cell_type": "markdown",
      "metadata": {
        "id": "KJCwgRF9cNcu"
      },
      "source": [
        "---\n",
        "## Array tanımlarken belirlenen bir aralığı eşit uzaklıktaki parçalara bölmek"
      ]
    },
    {
      "cell_type": "markdown",
      "metadata": {
        "id": "cfyy8iGdcwu7"
      },
      "source": [
        "> Belirlediğimiz aralığı eşit parçalara bölerek belirlediğimiz sayı kadar elemandan oluşan bir array üretir.\n",
        "\n",
        "> **!!** `arrange()` fonksiyonunun aksine hem başlangıç hem bitiş noktalarını aralığa dahil etmektedir. "
      ]
    },
    {
      "cell_type": "markdown",
      "metadata": {
        "id": "styzqkiwcct0"
      },
      "source": [
        "**Örnek verelim**\n",
        "\n",
        "---\n",
        "\n",
        "\n",
        "\n",
        "Sınırlarımızı 1 ve 15.5 olarak belirlediğimizi varsayalım. Üretilecek eleman sayısını da 30 olarak tanımlamış olalım. Oluşacak olan array 1 ve 15.5 aralığında 30 adet sayı üretirken, ürettiği her bir sayının birbirine olan uzaklığını eşit olarak ayarlamaktadır. Yani aslında bize üreteceği sayılar şu şekilde olacaktır:\n",
        "`1, 1.5, 2, 2.5, 3, ... , 15.5` "
      ]
    },
    {
      "cell_type": "markdown",
      "metadata": {
        "id": "JUr3owMeca__"
      },
      "source": [
        "Tanımlama şekli:\n",
        "```python\n",
        "np.linspace(baslangic(dahil), bitis(hariç), adim_sayisi)\n",
        "```"
      ]
    },
    {
      "cell_type": "code",
      "metadata": {
        "colab": {
          "base_uri": "https://localhost:8080/"
        },
        "id": "VlRq9TV7YU-P",
        "outputId": "a9d77bf7-44a7-4e60-8d56-4260280d995b"
      },
      "source": [
        "#@markdown Burada 30 adet sayı üretmesini isterken num = 30 şeklinde de tanımlayabilirdik.\n",
        "np.linspace(1, 15.5, 30)"
      ],
      "execution_count": null,
      "outputs": [
        {
          "output_type": "execute_result",
          "data": {
            "text/plain": [
              "array([ 1. ,  1.5,  2. ,  2.5,  3. ,  3.5,  4. ,  4.5,  5. ,  5.5,  6. ,\n",
              "        6.5,  7. ,  7.5,  8. ,  8.5,  9. ,  9.5, 10. , 10.5, 11. , 11.5,\n",
              "       12. , 12.5, 13. , 13.5, 14. , 14.5, 15. , 15.5])"
            ]
          },
          "metadata": {
            "tags": []
          },
          "execution_count": 235
        }
      ]
    },
    {
      "cell_type": "code",
      "metadata": {
        "colab": {
          "base_uri": "https://localhost:8080/"
        },
        "id": "zk4ojW3WeGQF",
        "outputId": "d7d0544d-37b1-4f18-c58d-51586967b2a4"
      },
      "source": [
        "#@markdown Eğer biz sayı belirtmezsek default olarak eleman sayısını 50 olarak alacaktır.\n",
        "np.linspace(1, 5)"
      ],
      "execution_count": null,
      "outputs": [
        {
          "output_type": "execute_result",
          "data": {
            "text/plain": [
              "array([1.        , 1.08163265, 1.16326531, 1.24489796, 1.32653061,\n",
              "       1.40816327, 1.48979592, 1.57142857, 1.65306122, 1.73469388,\n",
              "       1.81632653, 1.89795918, 1.97959184, 2.06122449, 2.14285714,\n",
              "       2.2244898 , 2.30612245, 2.3877551 , 2.46938776, 2.55102041,\n",
              "       2.63265306, 2.71428571, 2.79591837, 2.87755102, 2.95918367,\n",
              "       3.04081633, 3.12244898, 3.20408163, 3.28571429, 3.36734694,\n",
              "       3.44897959, 3.53061224, 3.6122449 , 3.69387755, 3.7755102 ,\n",
              "       3.85714286, 3.93877551, 4.02040816, 4.10204082, 4.18367347,\n",
              "       4.26530612, 4.34693878, 4.42857143, 4.51020408, 4.59183673,\n",
              "       4.67346939, 4.75510204, 4.83673469, 4.91836735, 5.        ])"
            ]
          },
          "metadata": {
            "tags": []
          },
          "execution_count": 236
        }
      ]
    },
    {
      "cell_type": "code",
      "metadata": {
        "colab": {
          "base_uri": "https://localhost:8080/"
        },
        "id": "vc_i6HoeeVUz",
        "outputId": "338261ef-f765-4f69-a014-a39d87b6e417"
      },
      "source": [
        "#@title Sıra sende!\n",
        "start = 1.5           #@param {type:\"number\"}\n",
        "end = 10.2 #@param {type:\"number\"}\n",
        "element_count =  4#@param {type:\"integer\"}\n",
        "np.linspace(start, end, element_count)"
      ],
      "execution_count": null,
      "outputs": [
        {
          "output_type": "execute_result",
          "data": {
            "text/plain": [
              "array([ 1.5,  4.4,  7.3, 10.2])"
            ]
          },
          "metadata": {
            "tags": []
          },
          "execution_count": 237
        }
      ]
    },
    {
      "cell_type": "markdown",
      "metadata": {
        "id": "UFUoN-UKfkpx"
      },
      "source": [
        "---\n",
        "## Normal dağılımdan array oluşturmak"
      ]
    },
    {
      "cell_type": "markdown",
      "metadata": {
        "id": "2n9zx3ZtgDoI"
      },
      "source": [
        "> Normal dağılıma oturan elemanlardan oluşan bir array elde etmek için ```np.random.normal()``` fonksiyonundan yararlanırız. \n",
        "\n",
        ">Tanımlarken normal dağılımın sahip olduğu ortalama ve standart sapmanın yanı sıra oluşturulacak arrayin boyutuna da ihtiyaç duyarız.\n",
        "\n"
      ]
    },
    {
      "cell_type": "markdown",
      "metadata": {
        "id": "ex08ghxJf1z1"
      },
      "source": [
        "Tanımlama şekli:\n",
        "```python\n",
        "np.random.normal(ortalama, standart_sapma, array_boyutu)\n",
        "```"
      ]
    },
    {
      "cell_type": "code",
      "metadata": {
        "colab": {
          "base_uri": "https://localhost:8080/"
        },
        "id": "ee_VXfIkepM2",
        "outputId": "277eebd7-0761-48c2-a52b-69347e0b0670"
      },
      "source": [
        "#@markdown 0 ortalamaya ve 100 standart sapmasına sahip bir normal dağılımdan 3 satır 5 sütundan oluşan bir array tanımlayalım.\n",
        "np.random.normal(0, 100, (3, 5))"
      ],
      "execution_count": null,
      "outputs": [
        {
          "output_type": "execute_result",
          "data": {
            "text/plain": [
              "array([[  80.54475082,  -85.41753337,   -0.92122394, -132.69090884,\n",
              "        -168.35671005],\n",
              "       [   4.75749916,   79.83650355,  187.99978819,  -37.76231048,\n",
              "        -131.92248825],\n",
              "       [  -8.9030199 ,  -63.18753799,   17.39530401,  112.13623782,\n",
              "          56.43479369]])"
            ]
          },
          "metadata": {
            "tags": []
          },
          "execution_count": 238
        }
      ]
    },
    {
      "cell_type": "code",
      "metadata": {
        "colab": {
          "base_uri": "https://localhost:8080/"
        },
        "id": "MYEPjG0FglHW",
        "outputId": "7ee04b2a-6f72-45a1-9a27-d7561dce81da"
      },
      "source": [
        "#@title Sıra sende!\n",
        "mean = 0 #@param {type:\"number\"}\n",
        "std = 15 #@param {type:\"number\"}\n",
        "shape = 3, 2, 3 #@param {type:\"raw\"}\n",
        "\n",
        "np.random.normal(mean, std, shape)"
      ],
      "execution_count": null,
      "outputs": [
        {
          "output_type": "execute_result",
          "data": {
            "text/plain": [
              "array([[[  2.46182792,  -6.85764323,  -6.91579512],\n",
              "        [ -0.06791014, -19.57891126, -31.63589115]],\n",
              "\n",
              "       [[  7.07506671, -15.53382129, -35.14602266],\n",
              "        [-20.39010652,  -1.22807305,   5.50491254]],\n",
              "\n",
              "       [[ 12.21548396,   2.74259405,  -5.04058828],\n",
              "        [-22.87794343,   9.05537964,   6.30713984]]])"
            ]
          },
          "metadata": {
            "tags": []
          },
          "execution_count": 239
        }
      ]
    },
    {
      "cell_type": "markdown",
      "metadata": {
        "id": "dFTrlKFVhMLi"
      },
      "source": [
        "---\n",
        "## Random integer değerlerden oluşan array oluşturmak"
      ]
    },
    {
      "cell_type": "markdown",
      "metadata": {
        "id": "LsAaNV-siQhS"
      },
      "source": [
        "> Tamamen random üretilmiş integer değerlerden oluşan bir array yaratmak için ```np.random.randint()``` fonksiyonundan yararlanırız.\n",
        "\n",
        "> `arrange()` fonksiyonu gibi başlangıç değerini aralığa dahil ederken bitiş değerini dahil etmez. "
      ]
    },
    {
      "cell_type": "markdown",
      "metadata": {
        "id": "d3hXFjYOiKX3"
      },
      "source": [
        "Tanımlama şekli:\n",
        "```python\n",
        "np.random.randint(baslangic, bitis, array_boyutu)\n",
        "```\n"
      ]
    },
    {
      "cell_type": "code",
      "metadata": {
        "colab": {
          "base_uri": "https://localhost:8080/"
        },
        "id": "GNL4Ir_6hKCS",
        "outputId": "375f6cd1-84e7-4261-8ee4-2740f3c58b1f"
      },
      "source": [
        "#@markdown 2'den 10'a kadar aralıktan random bir şekilde seçilmiş sayılardan oluşan 6 satır 3 sütundan oluşan bir array tanımlayalım.\n",
        "np.random.randint(2, 10, (6, 3))"
      ],
      "execution_count": null,
      "outputs": [
        {
          "output_type": "execute_result",
          "data": {
            "text/plain": [
              "array([[2, 4, 2],\n",
              "       [3, 5, 7],\n",
              "       [3, 9, 7],\n",
              "       [4, 9, 8],\n",
              "       [9, 5, 7],\n",
              "       [9, 7, 2]])"
            ]
          },
          "metadata": {
            "tags": []
          },
          "execution_count": 240
        }
      ]
    },
    {
      "cell_type": "markdown",
      "metadata": {
        "id": "6x9l1RuXjo6J"
      },
      "source": [
        "> **Not:** Daha öncesinde olduğu gibi shape vermeden de bu fonksiyonu kullanabiliriz. Ancak bu sefer bize yalnızca 1 değer döndürecektir."
      ]
    },
    {
      "cell_type": "code",
      "metadata": {
        "colab": {
          "base_uri": "https://localhost:8080/"
        },
        "id": "OGGRT8wwjrSp",
        "outputId": "a0a04139-bb25-4835-a5ee-3458913be919"
      },
      "source": [
        "#@markdown Bu satur bize 2 ile 10 arasında seçtiği random bir sayıyı döndürecektir.\n",
        "np.random.randint(2, 10)"
      ],
      "execution_count": null,
      "outputs": [
        {
          "output_type": "execute_result",
          "data": {
            "text/plain": [
              "9"
            ]
          },
          "metadata": {
            "tags": []
          },
          "execution_count": 241
        }
      ]
    },
    {
      "cell_type": "code",
      "metadata": {
        "colab": {
          "base_uri": "https://localhost:8080/"
        },
        "id": "JzvX6oI5iszP",
        "outputId": "4133e1f9-a0b2-44af-b964-0a499c583923"
      },
      "source": [
        "#@title Sıra sende!\n",
        "#@markdown Aynı değerleri kullanarak hücreyi birden fazla kez çalıştır ve arrayin nasıl değiştiğini gözlemle.\n",
        "\n",
        "start = 0 #@param {type:\"integer\"}\n",
        "end = 15 #@param {type:\"integer\"}\n",
        "shape = 3, 2, 3 #@param {type:\"raw\"}\n",
        "\n",
        "np.random.randint(start, end, shape)\n",
        "\n"
      ],
      "execution_count": null,
      "outputs": [
        {
          "output_type": "execute_result",
          "data": {
            "text/plain": [
              "array([[[ 0,  7,  5],\n",
              "        [10,  4,  7]],\n",
              "\n",
              "       [[ 0,  0,  1],\n",
              "        [ 2,  1,  2]],\n",
              "\n",
              "       [[14,  1,  0],\n",
              "        [ 5,  7,  8]]])"
            ]
          },
          "metadata": {
            "tags": []
          },
          "execution_count": 242
        }
      ]
    },
    {
      "cell_type": "markdown",
      "metadata": {
        "id": "CYOPKOppkbi9"
      },
      "source": [
        "---\n",
        "## Birim matris (identity matrix) arrayi oluşturma"
      ]
    },
    {
      "cell_type": "markdown",
      "metadata": {
        "id": "s4-4EO4bkj-l"
      },
      "source": [
        "Birim matris ana köşegeni birlerden ve diğer elemanları sıfırlardan oluşan n × n boyutlu bir kare matristir."
      ]
    },
    {
      "cell_type": "markdown",
      "metadata": {
        "id": "WWm9gVvQ_WM9"
      },
      "source": [
        "$A_{n,n} =\n",
        " \\begin{pmatrix}\n",
        "  1 & 0 & \\cdots & 0 \\\\\n",
        "  0 & 1 & \\cdots & 0 \\\\\n",
        "  \\vdots  & \\vdots  & \\ddots & \\vdots  \\\\\n",
        "  0 & 0 & \\cdots & 1\n",
        " \\end{pmatrix}$"
      ]
    },
    {
      "cell_type": "markdown",
      "metadata": {
        "id": "76GVtpCpkpmK"
      },
      "source": [
        "Tanımlama şekli:\n",
        "```python\n",
        "np.eye(array_satiri, array_sutunu)\n",
        "```\n"
      ]
    },
    {
      "cell_type": "code",
      "metadata": {
        "colab": {
          "base_uri": "https://localhost:8080/"
        },
        "id": "6Lu70JWXk6Fu",
        "outputId": "10ae4f78-ef2d-4767-aad2-abb7c3ed2eb5"
      },
      "source": [
        "#@markdown 5x5'lik bir birim matris arrayi oluşturalım.\n",
        "np.eye(5,5)"
      ],
      "execution_count": null,
      "outputs": [
        {
          "output_type": "execute_result",
          "data": {
            "text/plain": [
              "array([[1., 0., 0., 0., 0.],\n",
              "       [0., 1., 0., 0., 0.],\n",
              "       [0., 0., 1., 0., 0.],\n",
              "       [0., 0., 0., 1., 0.],\n",
              "       [0., 0., 0., 0., 1.]])"
            ]
          },
          "metadata": {
            "tags": []
          },
          "execution_count": 243
        }
      ]
    },
    {
      "cell_type": "code",
      "metadata": {
        "colab": {
          "base_uri": "https://localhost:8080/"
        },
        "id": "o4Yuy-ShizFG",
        "outputId": "f8a387d9-ee3a-4a2e-d068-20c69ce8d4a6"
      },
      "source": [
        "#@markdown Birim matrisin tanımı gereği tanımlanan array içerisinde kare alınabilecek en büyük matris ele alınır ve birim matris şeklinde oluşturulur. Kalan elemanların tamamı 0 olarak tanımlanır.\n",
        "np.eye(4, 2)"
      ],
      "execution_count": null,
      "outputs": [
        {
          "output_type": "execute_result",
          "data": {
            "text/plain": [
              "array([[1., 0.],\n",
              "       [0., 1.],\n",
              "       [0., 0.],\n",
              "       [0., 0.]])"
            ]
          },
          "metadata": {
            "tags": []
          },
          "execution_count": 244
        }
      ]
    },
    {
      "cell_type": "code",
      "metadata": {
        "colab": {
          "base_uri": "https://localhost:8080/"
        },
        "id": "uNmKHQwflJ0O",
        "outputId": "275a1ae9-60c1-4b69-bb2d-dd6ab7aca393"
      },
      "source": [
        "#@title Sıra sende!\n",
        "row = 3 #@param {type:\"integer\"}\n",
        "column = 3 #@param {type:\"integer\"}\n",
        "np.eye(row, column)"
      ],
      "execution_count": null,
      "outputs": [
        {
          "output_type": "execute_result",
          "data": {
            "text/plain": [
              "array([[1., 0., 0.],\n",
              "       [0., 1., 0.],\n",
              "       [0., 0., 1.]])"
            ]
          },
          "metadata": {
            "tags": []
          },
          "execution_count": 245
        }
      ]
    },
    {
      "cell_type": "markdown",
      "metadata": {
        "id": "ZESpGwBG0lW7"
      },
      "source": [
        "---\n",
        "---\n",
        "\n",
        "# Arrayler ile basit matematiksel işlemler\n",
        "Toplama / Çıkartma / Çarpma / Bölme"
      ]
    },
    {
      "cell_type": "markdown",
      "metadata": {
        "id": "ZlEBEIk5p0On"
      },
      "source": [
        "<p align= \"justify\"> Numpy'da array işlemleri eleman bazlı olarak gerçekleştirilmektedir. Yani işlemler arraylerin ilk elemanları arasında, arraylerin ikinci elemanları arasında, ... şeklinde olacak şekilde gerçekleştirilir. Başka bir ifadeyle arraylerin karşılıklı elemanları arasında işlemler gerçekleştirilir. Bu nedenle işlem yapılacak arraylerin boyutu birbirine eşit olmalıdır. </p>"
      ]
    },
    {
      "cell_type": "markdown",
      "metadata": {
        "id": "PorH8PVcqzUk"
      },
      "source": [
        "> Birkaç örnek işlem gerçekleştirmek için bir array tanımlayalım:"
      ]
    },
    {
      "cell_type": "code",
      "metadata": {
        "id": "m5XH7HfOlY3m"
      },
      "source": [
        "arr1 = np.array([1, 3, 5, 7])\n",
        "arr2 = np.array([12, 34, 8, 0])"
      ],
      "execution_count": null,
      "outputs": []
    },
    {
      "cell_type": "code",
      "metadata": {
        "colab": {
          "base_uri": "https://localhost:8080/"
        },
        "id": "P1VtAwenq3c9",
        "outputId": "7e0d01d1-0da1-45bf-890a-6547e89a2544"
      },
      "source": [
        "#@title Toplama işlemi\n",
        "#@markdown Gördüğümüz gibi karşılıklı elemanlar arasında işlemler gerçekleştiriliyor.\n",
        "arr1 + arr2"
      ],
      "execution_count": null,
      "outputs": [
        {
          "output_type": "execute_result",
          "data": {
            "text/plain": [
              "array([13, 37, 13,  7])"
            ]
          },
          "metadata": {
            "tags": []
          },
          "execution_count": 247
        }
      ]
    },
    {
      "cell_type": "code",
      "metadata": {
        "colab": {
          "base_uri": "https://localhost:8080/"
        },
        "id": "J2A3xFBOq334",
        "outputId": "72669151-a217-4432-f920-90b5c1cb5c71"
      },
      "source": [
        "#@title Çarpma işlemi\n",
        "arr1 * arr2"
      ],
      "execution_count": null,
      "outputs": [
        {
          "output_type": "execute_result",
          "data": {
            "text/plain": [
              "array([ 12, 102,  40,   0])"
            ]
          },
          "metadata": {
            "tags": []
          },
          "execution_count": 248
        }
      ]
    },
    {
      "cell_type": "code",
      "metadata": {
        "colab": {
          "base_uri": "https://localhost:8080/"
        },
        "id": "OhMSoEcCq9UD",
        "outputId": "f51d603b-82d2-4b36-d6f5-02a579dd8dc3"
      },
      "source": [
        "#@title Arrayi integer ile çarpma\n",
        "arr1 * 5"
      ],
      "execution_count": null,
      "outputs": [
        {
          "output_type": "execute_result",
          "data": {
            "text/plain": [
              "array([ 5, 15, 25, 35])"
            ]
          },
          "metadata": {
            "tags": []
          },
          "execution_count": 249
        }
      ]
    },
    {
      "cell_type": "markdown",
      "metadata": {
        "id": "H4890u6Mts8t"
      },
      "source": [
        "---\n",
        "---\n",
        "# Array Özelliklerini İnceleme"
      ]
    },
    {
      "cell_type": "markdown",
      "metadata": {
        "id": "UNeg7coMtxAw"
      },
      "source": [
        "<p align=\"jutify\">Kimi zamanlarda oluşturulan arraylerin boyut, eleman sayısı gibi özelliklerine ihtiyaç duyabiliriz. Bu özellikler için ise çeşitli fonksiyonlar kullanırız.</p>\n"
      ]
    },
    {
      "cell_type": "markdown",
      "metadata": {
        "id": "brBjFTBIBe-T"
      },
      "source": [
        "![](https://aprendeconalf.es/docencia/python/manual/img/arrays.png)"
      ]
    },
    {
      "cell_type": "markdown",
      "metadata": {
        "id": "CleHdu93uLzd"
      },
      "source": [
        "> Öncelikle özelliklerini inceleyebileceğimiz birkaç array tanımlayalım:"
      ]
    },
    {
      "cell_type": "code",
      "metadata": {
        "colab": {
          "base_uri": "https://localhost:8080/"
        },
        "id": "r3avI4E1uqLJ",
        "outputId": "0cf0ecff-0c5e-4ec7-f7bc-522dfa7a5ed9"
      },
      "source": [
        "arr1 = np.array([1, 2, 3])\n",
        "arr2 = np.zeros((3, 5, 4))\n",
        "\n",
        "print(\"1. array:\\n\", arr1, \"\\n\")\n",
        "print(\"-\"*30)\n",
        "print(\"\\n2. array:\\n\", arr2)"
      ],
      "execution_count": null,
      "outputs": [
        {
          "output_type": "stream",
          "text": [
            "1. array:\n",
            " [1 2 3] \n",
            "\n",
            "------------------------------\n",
            "\n",
            "2. array:\n",
            " [[[0. 0. 0. 0.]\n",
            "  [0. 0. 0. 0.]\n",
            "  [0. 0. 0. 0.]\n",
            "  [0. 0. 0. 0.]\n",
            "  [0. 0. 0. 0.]]\n",
            "\n",
            " [[0. 0. 0. 0.]\n",
            "  [0. 0. 0. 0.]\n",
            "  [0. 0. 0. 0.]\n",
            "  [0. 0. 0. 0.]\n",
            "  [0. 0. 0. 0.]]\n",
            "\n",
            " [[0. 0. 0. 0.]\n",
            "  [0. 0. 0. 0.]\n",
            "  [0. 0. 0. 0.]\n",
            "  [0. 0. 0. 0.]\n",
            "  [0. 0. 0. 0.]]]\n"
          ],
          "name": "stdout"
        }
      ]
    },
    {
      "cell_type": "markdown",
      "metadata": {
        "id": "QHvEqyrxt_cr"
      },
      "source": [
        "---\n",
        "## .shape\n",
        "Array satır-sütun sayılarını inceleme"
      ]
    },
    {
      "cell_type": "code",
      "metadata": {
        "colab": {
          "base_uri": "https://localhost:8080/"
        },
        "id": "iJ2tGUZDrSIU",
        "outputId": "e913863b-a5b3-4195-c62a-dee271642b57"
      },
      "source": [
        "print(\"1. arrayin satır sütun sayıları: \", arr1.shape)\n",
        "print(\"2. arrayin satır sütun sayıları: \", arr2.shape)"
      ],
      "execution_count": null,
      "outputs": [
        {
          "output_type": "stream",
          "text": [
            "1. arrayin satır sütun sayıları:  (3,)\n",
            "2. arrayin satır sütun sayıları:  (3, 5, 4)\n"
          ],
          "name": "stdout"
        }
      ]
    },
    {
      "cell_type": "markdown",
      "metadata": {
        "id": "HrKIiz_ZuQaa"
      },
      "source": [
        "---\n",
        "## .ndim\n",
        "Array boyut sayısını inceleme (kaç boyuta sahip olduğu - dimension)"
      ]
    },
    {
      "cell_type": "code",
      "metadata": {
        "colab": {
          "base_uri": "https://localhost:8080/"
        },
        "id": "u1gst5tHuSId",
        "outputId": "847cdcc0-9fb2-4ddc-c29d-89a4bb977548"
      },
      "source": [
        "print(\"1. arrayin boyut sayısı: \", arr1.ndim)\n",
        "print(\"2. arrayin boyut sayısı: \", arr2.ndim)"
      ],
      "execution_count": null,
      "outputs": [
        {
          "output_type": "stream",
          "text": [
            "1. arrayin boyut sayısı:  1\n",
            "2. arrayin boyut sayısı:  3\n"
          ],
          "name": "stdout"
        }
      ]
    },
    {
      "cell_type": "markdown",
      "metadata": {
        "id": "WaizGODBuS2p"
      },
      "source": [
        "---\n",
        "## .size\n",
        "Array eleman sayılarını inceleme"
      ]
    },
    {
      "cell_type": "code",
      "metadata": {
        "colab": {
          "base_uri": "https://localhost:8080/"
        },
        "id": "PmPxURI1umN2",
        "outputId": "4c3569da-8b96-44b7-98f1-6290c937dc48"
      },
      "source": [
        "print(\"1. arrayin eleman sayısı: \", arr1.size)\n",
        "print(\"2. arrayin eleman sayısı: \", arr2.size)"
      ],
      "execution_count": null,
      "outputs": [
        {
          "output_type": "stream",
          "text": [
            "1. arrayin eleman sayısı:  3\n",
            "2. arrayin eleman sayısı:  60\n"
          ],
          "name": "stdout"
        }
      ]
    },
    {
      "cell_type": "markdown",
      "metadata": {
        "id": "JAy-vXwvumeM"
      },
      "source": [
        "---\n",
        "##.dtype\n",
        "Array veri tipini inceleme"
      ]
    },
    {
      "cell_type": "code",
      "metadata": {
        "colab": {
          "base_uri": "https://localhost:8080/"
        },
        "id": "K_fEXKJXvQde",
        "outputId": "0a155902-878f-40cc-c3df-ff39bc41e07b"
      },
      "source": [
        "print(\"1. arrayin veri tipi: \", arr1.dtype)\n",
        "print(\"2. arrayin veri tipi: \", arr2.dtype)"
      ],
      "execution_count": null,
      "outputs": [
        {
          "output_type": "stream",
          "text": [
            "1. arrayin veri tipi:  int64\n",
            "2. arrayin veri tipi:  float64\n"
          ],
          "name": "stdout"
        }
      ]
    },
    {
      "cell_type": "markdown",
      "metadata": {
        "id": "-H-mATNkvhch"
      },
      "source": [
        "---\n",
        "---\n",
        "# Arrayi Yeniden Boyutlandırma "
      ]
    },
    {
      "cell_type": "markdown",
      "metadata": {
        "id": "KNONc_Krvu9G"
      },
      "source": [
        "<p align=\"justify\">Bir arrayi farklı boyutlara dönüştürebiliriz. Ancak bunu yaparken array içerisindeki elemanları kullanacağımız için array boyutunu değiştirmeden önceki eleman sayısıyla değiştirdikten sonraki ihtiyaç duyulan eleman sayısının eşit olmasına dikkat etmeliyiz.</p>"
      ]
    },
    {
      "cell_type": "markdown",
      "metadata": {
        "id": "o4V26RN7wO4x"
      },
      "source": [
        "> Örnek olarak yine bir array tanımlayalım ve sonrasında tanımladığımız bu arrayi farklı boyutlara çevirmeye çalışalım."
      ]
    },
    {
      "cell_type": "code",
      "metadata": {
        "colab": {
          "base_uri": "https://localhost:8080/"
        },
        "id": "aEK6SG-_wHqm",
        "outputId": "2ddd095d-6b4c-4edc-8196-4376a38c398e"
      },
      "source": [
        "#@markdown Yeniden boyutlandırabilmek için arrayin kaç elemandan oluştuğuna da bakalım. Arrayi yeniden boyutlandırırken bu eleman sayısını sağladığından emin olmalıyız.\n",
        "arr = np.zeros((3, 6))\n",
        "print(\"Arrayimiz:\\n\\n\", arr,\"\\n\", \"-\"*40)\n",
        "print(\"\\nArrayimizin eleman sayısı: \", arr.size)"
      ],
      "execution_count": null,
      "outputs": [
        {
          "output_type": "stream",
          "text": [
            "Arrayimiz:\n",
            "\n",
            " [[0. 0. 0. 0. 0. 0.]\n",
            " [0. 0. 0. 0. 0. 0.]\n",
            " [0. 0. 0. 0. 0. 0.]] \n",
            " ----------------------------------------\n",
            "\n",
            "Arrayimizin eleman sayısı:  18\n"
          ],
          "name": "stdout"
        }
      ]
    },
    {
      "cell_type": "markdown",
      "metadata": {
        "id": "fqelaQGPw75l"
      },
      "source": [
        "> Şimdi arrayimizi farklı bir boyutla ifade etmeye çalışalım. Bunun için `.reshape()` metodunu kullanacağız"
      ]
    },
    {
      "cell_type": "code",
      "metadata": {
        "colab": {
          "base_uri": "https://localhost:8080/"
        },
        "id": "vn7FlLVhwEDA",
        "outputId": "bfe2ce5d-ee98-41c7-b82f-81a3ea9ab982"
      },
      "source": [
        "#@markdown Ancak bu işlemin başta tanımladığımız orijinal arrayi değiştirmediğini de unutmayalım. Arrayi tekrar yazdırdığımızda aslında boyutunun değişmediğini göreceğiz.\n",
        "print(\"Yeniden boyutlandırılmış array:\\n\\n\", arr.reshape(9, 2))\n",
        "print(\"\\n\", \"-\"*20)\n",
        "print(\"Orijinal arrayimiz:\\n\\n\", arr)"
      ],
      "execution_count": null,
      "outputs": [
        {
          "output_type": "stream",
          "text": [
            "Yeniden boyutlandırılmış array:\n",
            "\n",
            " [[0. 0.]\n",
            " [0. 0.]\n",
            " [0. 0.]\n",
            " [0. 0.]\n",
            " [0. 0.]\n",
            " [0. 0.]\n",
            " [0. 0.]\n",
            " [0. 0.]\n",
            " [0. 0.]]\n",
            "\n",
            " --------------------\n",
            "Orijinal arrayimiz:\n",
            "\n",
            " [[0. 0. 0. 0. 0. 0.]\n",
            " [0. 0. 0. 0. 0. 0.]\n",
            " [0. 0. 0. 0. 0. 0.]]\n"
          ],
          "name": "stdout"
        }
      ]
    },
    {
      "cell_type": "markdown",
      "metadata": {
        "id": "slOMfYgixAi1"
      },
      "source": [
        "> "
      ]
    },
    {
      "cell_type": "code",
      "metadata": {
        "colab": {
          "base_uri": "https://localhost:8080/"
        },
        "id": "yRSwl3XmxLnd",
        "outputId": "331ac2f5-9580-4bfa-a13e-0da150cae542"
      },
      "source": [
        "#@markdown `.reshape()` kullanırken boyutunu değiştirmek istediğimiz ancak eleman sayısını bilmediğimiz bir array için bilmediğimiz boyutuna -1 verebiliriz. Böylece numpy, tanımlanan boyut haricinde ihtiyaç duyulan boyutu arrayin eleman sayısından kendi hesaplayacaktır.\n",
        "arr.reshape(-1, 2)"
      ],
      "execution_count": null,
      "outputs": [
        {
          "output_type": "execute_result",
          "data": {
            "text/plain": [
              "array([[0., 0.],\n",
              "       [0., 0.],\n",
              "       [0., 0.],\n",
              "       [0., 0.],\n",
              "       [0., 0.],\n",
              "       [0., 0.],\n",
              "       [0., 0.],\n",
              "       [0., 0.],\n",
              "       [0., 0.]])"
            ]
          },
          "metadata": {
            "tags": []
          },
          "execution_count": 257
        }
      ]
    },
    {
      "cell_type": "markdown",
      "metadata": {
        "id": "SjN241jOx89s"
      },
      "source": [
        "---\n",
        "## Array'e yeni bir boyut eklemek"
      ]
    },
    {
      "cell_type": "markdown",
      "metadata": {
        "id": "d1u40u9FyD-c"
      },
      "source": [
        "> Öncelikle tanımladığımız arrayin boyutlarını tekrar bir görelim:"
      ]
    },
    {
      "cell_type": "code",
      "metadata": {
        "colab": {
          "base_uri": "https://localhost:8080/"
        },
        "id": "321IhXSNxx7D",
        "outputId": "5f926738-b204-400b-a156-3007eca6e6a9"
      },
      "source": [
        "arr.shape"
      ],
      "execution_count": null,
      "outputs": [
        {
          "output_type": "execute_result",
          "data": {
            "text/plain": [
              "(3, 6)"
            ]
          },
          "metadata": {
            "tags": []
          },
          "execution_count": 258
        }
      ]
    },
    {
      "cell_type": "markdown",
      "metadata": {
        "id": "dai_qaqtyKQ0"
      },
      "source": [
        "> Şimdiyse yeni bir boyut ekleyelim:"
      ]
    },
    {
      "cell_type": "code",
      "metadata": {
        "colab": {
          "base_uri": "https://localhost:8080/"
        },
        "id": "xwduHR4LyJAv",
        "outputId": "5e26e180-d11f-493d-bcb0-d34e1464fd24"
      },
      "source": [
        "new_arr = arr[np.newaxis, :]\n",
        "print(\"Yeni arrayimiz:\\n\\n\", new_arr)\n",
        "print(\"\\n\", \"-\"*30)\n",
        "print(\"\\nYeni arrayimizin boyutları:\\n\\n\", new_arr.shape)\n"
      ],
      "execution_count": null,
      "outputs": [
        {
          "output_type": "stream",
          "text": [
            "Yeni arrayimiz:\n",
            "\n",
            " [[[0. 0. 0. 0. 0. 0.]\n",
            "  [0. 0. 0. 0. 0. 0.]\n",
            "  [0. 0. 0. 0. 0. 0.]]]\n",
            "\n",
            " ------------------------------\n",
            "\n",
            "Yeni arrayimizin boyutları:\n",
            "\n",
            " (1, 3, 6)\n"
          ],
          "name": "stdout"
        }
      ]
    },
    {
      "cell_type": "markdown",
      "metadata": {
        "id": "i23jXFTrzM1C"
      },
      "source": [
        "> Biraz daha farklı bir şey deneyelim:"
      ]
    },
    {
      "cell_type": "code",
      "metadata": {
        "colab": {
          "base_uri": "https://localhost:8080/"
        },
        "id": "TTJ8cxhdzAzZ",
        "outputId": "9bdb3de7-00ec-4a1d-cd0a-c8838c22cff6"
      },
      "source": [
        "new_arr = arr[:, np.newaxis]\n",
        "print(\"Yeni arrayimiz:\\n\\n\", new_arr)\n",
        "print(\"\\n\", \"-\"*30)\n",
        "print(\"\\nYeni arrayimizin boyutları:\\n\\n\", new_arr.shape)"
      ],
      "execution_count": null,
      "outputs": [
        {
          "output_type": "stream",
          "text": [
            "Yeni arrayimiz:\n",
            "\n",
            " [[[0. 0. 0. 0. 0. 0.]]\n",
            "\n",
            " [[0. 0. 0. 0. 0. 0.]]\n",
            "\n",
            " [[0. 0. 0. 0. 0. 0.]]]\n",
            "\n",
            " ------------------------------\n",
            "\n",
            "Yeni arrayimizin boyutları:\n",
            "\n",
            " (3, 1, 6)\n"
          ],
          "name": "stdout"
        }
      ]
    },
    {
      "cell_type": "markdown",
      "metadata": {
        "id": "5CYsu3HrzQJr"
      },
      "source": [
        "> Gördüğümüz gibi arraye iki farklı şekilde boyut eklemiş olduk."
      ]
    },
    {
      "cell_type": "markdown",
      "metadata": {
        "id": "VwX0gmfrz5T4"
      },
      "source": [
        "> ``np.newaxis`` yerine ``None`` yazarak da aynı sonucu elde edebilirdik"
      ]
    },
    {
      "cell_type": "code",
      "metadata": {
        "colab": {
          "base_uri": "https://localhost:8080/"
        },
        "id": "LYYNKitCzKdA",
        "outputId": "8bdbd9b6-0539-4a49-92eb-5d4409abd762"
      },
      "source": [
        "new_arr = arr[:, None]\n",
        "print(\"Yeni arrayimiz:\\n\\n\", new_arr)\n",
        "print(\"\\n\", \"-\"*30)\n",
        "print(\"\\nYeni arrayimizin boyutları:\\n\\n\", new_arr.shape)"
      ],
      "execution_count": null,
      "outputs": [
        {
          "output_type": "stream",
          "text": [
            "Yeni arrayimiz:\n",
            "\n",
            " [[[0. 0. 0. 0. 0. 0.]]\n",
            "\n",
            " [[0. 0. 0. 0. 0. 0.]]\n",
            "\n",
            " [[0. 0. 0. 0. 0. 0.]]]\n",
            "\n",
            " ------------------------------\n",
            "\n",
            "Yeni arrayimizin boyutları:\n",
            "\n",
            " (3, 1, 6)\n"
          ],
          "name": "stdout"
        }
      ]
    },
    {
      "cell_type": "markdown",
      "metadata": {
        "id": "nuS2Fhcz0eNw"
      },
      "source": [
        "---\n",
        "---\n",
        "# Arrayleri Birleştirmek"
      ]
    },
    {
      "cell_type": "markdown",
      "metadata": {
        "id": "9PRNjVI_0qRi"
      },
      "source": [
        "---\n",
        "## Concat işlemi\n"
      ]
    },
    {
      "cell_type": "markdown",
      "metadata": {
        "id": "GC5E9ogC1Zw2"
      },
      "source": [
        "> Arraylerin birleştirilme işleminde `np.concatenate()` metodu kullanılır. Bu fonksiyon kullanıldığında birleştirilen arrayler, arrayler içerisinde bulunan veri tiplerinden en genel olanını ana veri tipi olarak kabul eder ve birleştirdiği tüm elemanlara o şekilde davranır."
      ]
    },
    {
      "cell_type": "markdown",
      "metadata": {
        "id": "prHUd01H2S_u"
      },
      "source": [
        "> <p align=\"justify\">Concatenate işlemi yapılırken concat edilecek arraylerin aynı boyutlara sahip olmasına dikkat edilmelidir.</p>"
      ]
    },
    {
      "cell_type": "code",
      "metadata": {
        "colab": {
          "base_uri": "https://localhost:8080/"
        },
        "id": "PqYOfDLk2y95",
        "outputId": "4ccca083-3930-4852-d23f-1e22d35c8b10"
      },
      "source": [
        "arr1 = np.array([[1, 2],\n",
        "                 [3, 4]])\n",
        "arr2 = np.array([[218, 12],\n",
        "                 [61, 24]])\n",
        "\n",
        "print(\"1. array:\\n\", arr1)\n",
        "print(\"\\n\", \"-\"*20)\n",
        "print(\"\\n2. array:\\n\", arr2)\n",
        "print(\"\\n\", \"-\"*20)\n",
        "print(\"\\nConcatenate işlemi:\\n\",np.concatenate([arr1, arr2]))\n"
      ],
      "execution_count": null,
      "outputs": [
        {
          "output_type": "stream",
          "text": [
            "1. array:\n",
            " [[1 2]\n",
            " [3 4]]\n",
            "\n",
            " --------------------\n",
            "\n",
            "2. array:\n",
            " [[218  12]\n",
            " [ 61  24]]\n",
            "\n",
            " --------------------\n",
            "\n",
            "Concatenate işlemi:\n",
            " [[  1   2]\n",
            " [  3   4]\n",
            " [218  12]\n",
            " [ 61  24]]\n"
          ],
          "name": "stdout"
        }
      ]
    },
    {
      "cell_type": "markdown",
      "metadata": {
        "id": "br9TzHQ02fYG"
      },
      "source": [
        "> Concat işleminin hangi eksende gerçekleşeceğini işlemi gerçekleştirirken belirtebiliriz. Belirtilmediği sürece concat işlemi default olarak axis 0'da gerçekleştirilir."
      ]
    },
    {
      "cell_type": "markdown",
      "metadata": {
        "id": "GeWDoxZ4SuuN"
      },
      "source": [
        "![](https://www.w3resource.com/w3r_images/numpy-manipulation-concatenate-function-image-1.png)\n",
        "![](https://www.w3resource.com/w3r_images/python-numpy-image-exercise-58.png)\n"
      ]
    },
    {
      "cell_type": "code",
      "metadata": {
        "colab": {
          "base_uri": "https://localhost:8080/"
        },
        "id": "2EDy_xL72mH4",
        "outputId": "177c528a-6e45-45eb-85ba-04952cf5edd5"
      },
      "source": [
        "#@markdown Arrayler alt alta eklendi.\n",
        "np.concatenate([arr1, arr2], axis = 0)"
      ],
      "execution_count": null,
      "outputs": [
        {
          "output_type": "execute_result",
          "data": {
            "text/plain": [
              "array([[  1,   2],\n",
              "       [  3,   4],\n",
              "       [218,  12],\n",
              "       [ 61,  24]])"
            ]
          },
          "metadata": {
            "tags": []
          },
          "execution_count": 263
        }
      ]
    },
    {
      "cell_type": "code",
      "metadata": {
        "colab": {
          "base_uri": "https://localhost:8080/"
        },
        "id": "35Bn218K2o-o",
        "outputId": "7059e66b-af21-4d3b-f19b-22564a98f344"
      },
      "source": [
        "#@markdown Arrayler yan yana eklendi.\n",
        "np.concatenate([arr1, arr2], axis = 1)"
      ],
      "execution_count": null,
      "outputs": [
        {
          "output_type": "execute_result",
          "data": {
            "text/plain": [
              "array([[  1,   2, 218,  12],\n",
              "       [  3,   4,  61,  24]])"
            ]
          },
          "metadata": {
            "tags": []
          },
          "execution_count": 264
        }
      ]
    },
    {
      "cell_type": "markdown",
      "metadata": {
        "id": "RG3cIxR81APT"
      },
      "source": [
        "> <p align=\"justify\">np.concatenate() fonksiyonunu kullanmak için yalnızca numpy array kullanmamız gerekmez. Python liste veya tuple veri tipleri kullanılarak da concatenate işlemi gerçekleştirilebilir.</p>\n"
      ]
    },
    {
      "cell_type": "code",
      "metadata": {
        "colab": {
          "base_uri": "https://localhost:8080/"
        },
        "id": "-bgCgBn03TuH",
        "outputId": "71dac7ab-8ba0-499c-b23a-55efa01e461d"
      },
      "source": [
        "arr = np.array([4, 5, 6, 7, 8])\n",
        "l = [1, 2, 5]\n",
        "\n",
        "print(\"Array:\\n\", arr)\n",
        "print(\"\\n\", \"-\"*20)\n",
        "print(\"\\nListe:\\n\", l)\n",
        "print( \"\\n\", \"-\"*20)\n",
        "print(\"\\nArray ve liste concatenate işlemi:\\n\",np.concatenate([arr, l]))\n",
        "print( \"\\n\", \"-\"*20)\n",
        "print(\"\\nYalnızca liste concatenate işlemi:\\n\",np.concatenate([l, l]))"
      ],
      "execution_count": null,
      "outputs": [
        {
          "output_type": "stream",
          "text": [
            "Array:\n",
            " [4 5 6 7 8]\n",
            "\n",
            " --------------------\n",
            "\n",
            "Liste:\n",
            " [1, 2, 5]\n",
            "\n",
            " --------------------\n",
            "\n",
            "Array ve liste concatenate işlemi:\n",
            " [4 5 6 7 8 1 2 5]\n",
            "\n",
            " --------------------\n",
            "\n",
            "Yalnızca liste concatenate işlemi:\n",
            " [1 2 5 1 2 5]\n"
          ],
          "name": "stdout"
        }
      ]
    },
    {
      "cell_type": "markdown",
      "metadata": {
        "id": "SlE_zx63Be6F"
      },
      "source": [
        "---\n",
        "## Stack işlemi"
      ]
    },
    {
      "cell_type": "markdown",
      "metadata": {
        "id": "D-Dk8_yWUIit"
      },
      "source": [
        "Concat işlemi ile arrayleri birleştirebiliyoruz ancak satır-sütun mantığına sahip olmayan arrayler için istediğimiz bir sütunda birleşme sağlayabilmek için `stack()` fonksiyonuna ihtiyaç duyarız.\n",
        "\n"
      ]
    },
    {
      "cell_type": "markdown",
      "metadata": {
        "id": "CmY0C3P3B3SH"
      },
      "source": [
        "<p align=\"justify\">Stack fonksiyonu yeni bir dimension oluşturarak oluşturulan dimensionda arraylerin birleştirilmesini sağlar. Bu işlem, birleştirilmek istenen arraylere yeni bir dimension eklenip sonrasında concat edilerek de gerçekleştirilebilir.</p> "
      ]
    },
    {
      "cell_type": "markdown",
      "metadata": {
        "id": "kJcIAo0ECDQe"
      },
      "source": [
        "> Öncelikle arraylerimizi tanımlayalım ve boyutlarını inceleyelim."
      ]
    },
    {
      "cell_type": "code",
      "metadata": {
        "colab": {
          "base_uri": "https://localhost:8080/"
        },
        "id": "9i1HOHnFCBNf",
        "outputId": "2005cf8f-11fa-4d24-8ceb-d1da2ce2639f"
      },
      "source": [
        "arr1 = np.array([1, 3, 5, 7, 9])\n",
        "arr2 = np.array([2, 4, 6, 8, 10])\n",
        "\n",
        "print(\"1. arrayimiz:\\n\\n\", arr1)\n",
        "print(\"\\n\", \"-\"*40)\n",
        "print(\"\\nArrayimizin boyutu: \", arr1.shape)\n",
        "print(\"\\n\", \"*\"*40)\n",
        "print(\"\\n2. arrayimiz:\\n\\n\", arr2)\n",
        "print(\"\\n\", \"-\"*40)\n",
        "print(\"\\nArrayimizin boyutu: \", arr2.shape)"
      ],
      "execution_count": null,
      "outputs": [
        {
          "output_type": "stream",
          "text": [
            "1. arrayimiz:\n",
            "\n",
            " [1 3 5 7 9]\n",
            "\n",
            " ----------------------------------------\n",
            "\n",
            "Arrayimizin boyutu:  (5,)\n",
            "\n",
            " ****************************************\n",
            "\n",
            "2. arrayimiz:\n",
            "\n",
            " [ 2  4  6  8 10]\n",
            "\n",
            " ----------------------------------------\n",
            "\n",
            "Arrayimizin boyutu:  (5,)\n"
          ],
          "name": "stdout"
        }
      ]
    },
    {
      "cell_type": "markdown",
      "metadata": {
        "id": "FbOZR1rhCQe8"
      },
      "source": [
        "> Her iki arrayimiz için de yalnızca 5 elemandan oluştuğuna dair bilgimiz var ancak satır sütun yapısında değiller. Stack işlemimizi gerçekleştirelim:"
      ]
    },
    {
      "cell_type": "code",
      "metadata": {
        "colab": {
          "base_uri": "https://localhost:8080/"
        },
        "id": "jUGBvy6rCP64",
        "outputId": "4df467af-a7b3-4d6c-cd71-9909480d73be"
      },
      "source": [
        "#@markdown Birleştirdiğimiz array boyutu artık satır-sütun şeklinde.\n",
        "stacked = np.stack([arr1, arr2])\n",
        "\n",
        "print(\"Stack işlemi:\\n\\n\", stacked)\n",
        "print(\"\\n\", \"-\"*40)\n",
        "print(\"\\nYeni arrayimizin boyutu: \", stacked.shape)"
      ],
      "execution_count": null,
      "outputs": [
        {
          "output_type": "stream",
          "text": [
            "Stack işlemi:\n",
            "\n",
            " [[ 1  3  5  7  9]\n",
            " [ 2  4  6  8 10]]\n",
            "\n",
            " ----------------------------------------\n",
            "\n",
            "Yeni arrayimizin boyutu:  (2, 5)\n"
          ],
          "name": "stdout"
        }
      ]
    },
    {
      "cell_type": "markdown",
      "metadata": {
        "id": "AspgRK5wChkr"
      },
      "source": [
        "> Bir de boyut vererek birleştirmeyi deneyelim."
      ]
    },
    {
      "cell_type": "code",
      "metadata": {
        "colab": {
          "base_uri": "https://localhost:8080/"
        },
        "id": "IhNCV-4QCcpC",
        "outputId": "2968e0ce-4a42-478e-8dd7-e8035c599092"
      },
      "source": [
        "#@markdown Default olarak axis = 0'da stack edilir.\n",
        "stacked = np.stack([arr1, arr2], axis=0)\n",
        "stacked"
      ],
      "execution_count": null,
      "outputs": [
        {
          "output_type": "execute_result",
          "data": {
            "text/plain": [
              "array([[ 1,  3,  5,  7,  9],\n",
              "       [ 2,  4,  6,  8, 10]])"
            ]
          },
          "metadata": {
            "tags": []
          },
          "execution_count": 268
        }
      ]
    },
    {
      "cell_type": "code",
      "metadata": {
        "colab": {
          "base_uri": "https://localhost:8080/"
        },
        "id": "H54hnAuKC5CP",
        "outputId": "3af44587-aaf8-4123-9f93-68d85dad947e"
      },
      "source": [
        "stacked = np.stack([arr1, arr2], axis=1)\n",
        "stacked"
      ],
      "execution_count": null,
      "outputs": [
        {
          "output_type": "execute_result",
          "data": {
            "text/plain": [
              "array([[ 1,  2],\n",
              "       [ 3,  4],\n",
              "       [ 5,  6],\n",
              "       [ 7,  8],\n",
              "       [ 9, 10]])"
            ]
          },
          "metadata": {
            "tags": []
          },
          "execution_count": 269
        }
      ]
    },
    {
      "cell_type": "markdown",
      "metadata": {
        "id": "XEsDf4hn8UWF"
      },
      "source": [
        "---\n",
        "---\n",
        "# Arrayi Parçalara Ayırmak (Splitting) "
      ]
    },
    {
      "cell_type": "markdown",
      "metadata": {
        "id": "KUjwzhgI8eNr"
      },
      "source": [
        "Kullanım şekli:\n",
        "\n",
        "```python\n",
        "np.split(bolunecek_veri, bolunecek_indexler)\n",
        "```"
      ]
    },
    {
      "cell_type": "markdown",
      "metadata": {
        "id": "J3_2nQV3U-sP"
      },
      "source": [
        "![](https://www.w3resource.com/w3r_images/numpy-manipulation-split-function-image.png)"
      ]
    },
    {
      "cell_type": "markdown",
      "metadata": {
        "id": "Hp3GK2wt8wOt"
      },
      "source": [
        "**NOT:** Bu fonksiyon yalnızca numpy arraylerine özgü değildir. Python listlerde de işlev görmektedir."
      ]
    },
    {
      "cell_type": "markdown",
      "metadata": {
        "id": "LZVdYExQ9QFU"
      },
      "source": [
        "Bölünecek indexlerden kasıt aslında hangi indexten önceki kısmın ayrılacağıdır. Sözel bir örnek yapalım:\n",
        "\n",
        "listemiz = [15, 16, 17, 18]\n",
        "\n",
        "Eğer bu listeyi şu ifade ile bölersek:\n",
        "\n",
        "* np.split(listemiz, [1,2])\n",
        "\n",
        "Listemiz şu şekilde bölünecekti:\n",
        "* 15 | 16 | 17 18 --> [15] , [16] , [17 , 18]\n",
        "\n",
        "Gördüğümüz gibi bir nevi verdiğimiz indexlerden hemen önce listemizi kesiyoruz."
      ]
    },
    {
      "cell_type": "markdown",
      "metadata": {
        "id": "eduKD7N2-HWJ"
      },
      "source": [
        "Aynı örneği bir de kod üzerinde deneyelim:"
      ]
    },
    {
      "cell_type": "code",
      "metadata": {
        "id": "542C4YCI8Yb4",
        "colab": {
          "base_uri": "https://localhost:8080/"
        },
        "outputId": "dfb3f0a1-5c0a-4275-dc02-e22a26abce1c"
      },
      "source": [
        "l = [15, 16, 17, 18]\n",
        "\n",
        "print(\"Listemiz:\\n\\n\", l)\n",
        "print(\"\\n\", \"-\"*40)\n",
        "print(\"\\nBölünmüş listemiz:\\n\\n\", np.split(l, [1, 2]))"
      ],
      "execution_count": null,
      "outputs": [
        {
          "output_type": "stream",
          "text": [
            "Listemiz:\n",
            "\n",
            " [15, 16, 17, 18]\n",
            "\n",
            " ----------------------------------------\n",
            "\n",
            "Bölünmüş listemiz:\n",
            "\n",
            " [array([15]), array([16]), array([17, 18])]\n"
          ],
          "name": "stdout"
        }
      ]
    },
    {
      "cell_type": "markdown",
      "metadata": {
        "id": "x60geWM3-avN"
      },
      "source": [
        "> Aynı örneği bir de numpy array kullanarak yapalım:\n"
      ]
    },
    {
      "cell_type": "code",
      "metadata": {
        "id": "GrmdJc4G9G1a",
        "colab": {
          "base_uri": "https://localhost:8080/"
        },
        "outputId": "503686e2-690d-46b8-937a-d543a3a42906"
      },
      "source": [
        "arr = np.array([15, 16, 17, 18])\n",
        "\n",
        "print(\"Arrayimiz:\\n\\n\", arr)\n",
        "print(\"\\n\", \"-\"*40)\n",
        "print(\"\\nBölünmüş arrayimiz:\\n\\n\", np.split(arr, [1, 2]))"
      ],
      "execution_count": null,
      "outputs": [
        {
          "output_type": "stream",
          "text": [
            "Arrayimiz:\n",
            "\n",
            " [15 16 17 18]\n",
            "\n",
            " ----------------------------------------\n",
            "\n",
            "Bölünmüş arrayimiz:\n",
            "\n",
            " [array([15]), array([16]), array([17, 18])]\n"
          ],
          "name": "stdout"
        }
      ]
    },
    {
      "cell_type": "markdown",
      "metadata": {
        "id": "z56NY1EL-QED"
      },
      "source": [
        "> np.split() fonksiyonunun sonucu olan her eleman her zaman array olarak döner!\n",
        "\n",
        "* ANCAK np.split() fonksiyonundan birden fazla array döndüğü için bu arrayler tek bir liste içerisinde tutulur.\n",
        "\n",
        "* YANİ örneğin bir listeyi böldüğümüzde çıktıda 3 adet array oluşuyorsa kullanılan np.split() fonksiyonu 3 adet arrayden oluşan bir listeye eşittir."
      ]
    },
    {
      "cell_type": "markdown",
      "metadata": {
        "id": "CzFQnhIT_CUI"
      },
      "source": [
        "Birden fazla dimensiona (boyuta) sahip arrayleri split etmek için split edeceğimiz ekseni bilmemiz gerekir. Bu durumlarda vsplit ve hsplitten yararlanırız."
      ]
    },
    {
      "cell_type": "markdown",
      "metadata": {
        "id": "OwBvoYHi_3UB"
      },
      "source": [
        "> Öncelikle bu fonksiyonları görebilmek için bir array üretelim:"
      ]
    },
    {
      "cell_type": "code",
      "metadata": {
        "id": "QYlhbsOX_7n-",
        "colab": {
          "base_uri": "https://localhost:8080/"
        },
        "outputId": "0019b21e-0217-416a-b084-3c62a2e81e60"
      },
      "source": [
        "arr = np.arange(30).reshape(3,10)\n",
        "arr"
      ],
      "execution_count": null,
      "outputs": [
        {
          "output_type": "execute_result",
          "data": {
            "text/plain": [
              "array([[ 0,  1,  2,  3,  4,  5,  6,  7,  8,  9],\n",
              "       [10, 11, 12, 13, 14, 15, 16, 17, 18, 19],\n",
              "       [20, 21, 22, 23, 24, 25, 26, 27, 28, 29]])"
            ]
          },
          "metadata": {
            "tags": []
          },
          "execution_count": 272
        }
      ]
    },
    {
      "cell_type": "markdown",
      "metadata": {
        "id": "vP0aeYOq-6ux"
      },
      "source": [
        "---\n",
        "## vsplit (vertical split)\n",
        "Satırlara göre bölme"
      ]
    },
    {
      "cell_type": "code",
      "metadata": {
        "colab": {
          "base_uri": "https://localhost:8080/"
        },
        "id": "WlWYu3o3-2qS",
        "outputId": "45a0f4fc-ebc6-4db4-89a9-870999c8b573"
      },
      "source": [
        "#@markdown Bu durumda index = 1 olan sütundan hemen önce arrayimizi bölmüş oluruz. \n",
        "np.vsplit(arr, [1])"
      ],
      "execution_count": null,
      "outputs": [
        {
          "output_type": "execute_result",
          "data": {
            "text/plain": [
              "[array([[0, 1, 2, 3, 4, 5, 6, 7, 8, 9]]),\n",
              " array([[10, 11, 12, 13, 14, 15, 16, 17, 18, 19],\n",
              "        [20, 21, 22, 23, 24, 25, 26, 27, 28, 29]])]"
            ]
          },
          "metadata": {
            "tags": []
          },
          "execution_count": 273
        }
      ]
    },
    {
      "cell_type": "code",
      "metadata": {
        "colab": {
          "base_uri": "https://localhost:8080/"
        },
        "id": "bAWinW87BaMp",
        "outputId": "44fd3fb7-9bf1-48ec-99d3-094cceb51f0a"
      },
      "source": [
        "#@markdown Bu durumda arrayimizi üç parçaya böldük.\n",
        "np.vsplit(arr, [1, 2])"
      ],
      "execution_count": null,
      "outputs": [
        {
          "output_type": "execute_result",
          "data": {
            "text/plain": [
              "[array([[0, 1, 2, 3, 4, 5, 6, 7, 8, 9]]),\n",
              " array([[10, 11, 12, 13, 14, 15, 16, 17, 18, 19]]),\n",
              " array([[20, 21, 22, 23, 24, 25, 26, 27, 28, 29]])]"
            ]
          },
          "metadata": {
            "tags": []
          },
          "execution_count": 274
        }
      ]
    },
    {
      "cell_type": "markdown",
      "metadata": {
        "id": "x9eu26sJ--PQ"
      },
      "source": [
        "---\n",
        "## hsplit (horizontical split)\n",
        "Sütunlara göre bölme"
      ]
    },
    {
      "cell_type": "code",
      "metadata": {
        "colab": {
          "base_uri": "https://localhost:8080/"
        },
        "id": "C3QvU7Bt_AoH",
        "outputId": "92ff36cc-8a44-4cbd-8cea-95d28fec85e2"
      },
      "source": [
        "#@markdown Bu durumda index = 2 olan sütundan hemen önce (üçüncü sütun) arrayimizi bölmüş oluruz. \n",
        "np.hsplit(arr, [2])"
      ],
      "execution_count": null,
      "outputs": [
        {
          "output_type": "execute_result",
          "data": {
            "text/plain": [
              "[array([[ 0,  1],\n",
              "        [10, 11],\n",
              "        [20, 21]]), array([[ 2,  3,  4,  5,  6,  7,  8,  9],\n",
              "        [12, 13, 14, 15, 16, 17, 18, 19],\n",
              "        [22, 23, 24, 25, 26, 27, 28, 29]])]"
            ]
          },
          "metadata": {
            "tags": []
          },
          "execution_count": 275
        }
      ]
    },
    {
      "cell_type": "code",
      "metadata": {
        "colab": {
          "base_uri": "https://localhost:8080/"
        },
        "id": "yujduVlbBjuF",
        "outputId": "68c621e9-c68b-4ffc-ef3c-b66f69a8abc1"
      },
      "source": [
        "#@markdown Bu durumda arrayimizi yine üç parçaya böldük.\n",
        "np.hsplit(arr, [3, 6])"
      ],
      "execution_count": null,
      "outputs": [
        {
          "output_type": "execute_result",
          "data": {
            "text/plain": [
              "[array([[ 0,  1,  2],\n",
              "        [10, 11, 12],\n",
              "        [20, 21, 22]]), array([[ 3,  4,  5],\n",
              "        [13, 14, 15],\n",
              "        [23, 24, 25]]), array([[ 6,  7,  8,  9],\n",
              "        [16, 17, 18, 19],\n",
              "        [26, 27, 28, 29]])]"
            ]
          },
          "metadata": {
            "tags": []
          },
          "execution_count": 276
        }
      ]
    },
    {
      "cell_type": "markdown",
      "metadata": {
        "id": "0wRCY8KWCHWI"
      },
      "source": [
        "---\n",
        "---\n",
        "# Arraylerde sıralama (sorting)"
      ]
    },
    {
      "cell_type": "markdown",
      "metadata": {
        "id": "4u6D78tvCUIK"
      },
      "source": [
        "Kullanım şekli:\n",
        "\n",
        "```python\n",
        "np.sort(array)\n",
        "```\n",
        "\n",
        "> **Not:** `.sort()` küçükten büyüğe sıralama yapar."
      ]
    },
    {
      "cell_type": "code",
      "metadata": {
        "id": "e5GljgKKALee",
        "colab": {
          "base_uri": "https://localhost:8080/"
        },
        "outputId": "79b35839-23ce-4a21-de39-a876ff9f5a5e"
      },
      "source": [
        "arr = [15, 35, 1, 49, 26, 42, 3, 49]\n",
        "arr\n",
        "\n",
        "print(\"Sıralamadan önce arrayimiz:\\n\\n\", arr)\n",
        "print(\"\\n\", \"-\"*40)\n",
        "print(\"\\nSıralanmış arrayimiz:\\n\\n\", np.sort(arr))\n",
        "print(\"\\n\", \"-\"*40)\n",
        "print(\"\\nSıralandıktan sonra orijinal arrayimiz:\\n\\n\", arr)"
      ],
      "execution_count": null,
      "outputs": [
        {
          "output_type": "stream",
          "text": [
            "Sıralamadan önce arrayimiz:\n",
            "\n",
            " [15, 35, 1, 49, 26, 42, 3, 49]\n",
            "\n",
            " ----------------------------------------\n",
            "\n",
            "Sıralanmış arrayimiz:\n",
            "\n",
            " [ 1  3 15 26 35 42 49 49]\n",
            "\n",
            " ----------------------------------------\n",
            "\n",
            "Sıralandıktan sonra orijinal arrayimiz:\n",
            "\n",
            " [15, 35, 1, 49, 26, 42, 3, 49]\n"
          ],
          "name": "stdout"
        }
      ]
    },
    {
      "cell_type": "markdown",
      "metadata": {
        "id": "N9BsT487LOq3"
      },
      "source": [
        "> Not: `.sort()` metodu `np.sort(array)` şeklinde kullanıldığında orijinal array üzerinde değişiklik yapmaz. Array üzerinde güncelleme yapılabilmesi için `array.sort()` şeklinde kullanılmalıdır."
      ]
    },
    {
      "cell_type": "code",
      "metadata": {
        "colab": {
          "base_uri": "https://localhost:8080/"
        },
        "id": "BRuqf3_mLjCd",
        "outputId": "c5c2673d-0138-45d8-9a36-ec72f30be2c4"
      },
      "source": [
        "#@markdown Orijinal arrayimiz üzerinde sıralama yapalım \n",
        "arr.sort()\n",
        "print(\"\\nSıralandıktan sonra orijinal arrayimiz:\\n\\n\", arr)"
      ],
      "execution_count": null,
      "outputs": [
        {
          "output_type": "stream",
          "text": [
            "\n",
            "Sıralandıktan sonra orijinal arrayimiz:\n",
            "\n",
            " [1, 3, 15, 26, 35, 42, 49, 49]\n"
          ],
          "name": "stdout"
        }
      ]
    },
    {
      "cell_type": "markdown",
      "metadata": {
        "id": "B4FsuT_-C-kH"
      },
      "source": [
        "---\n",
        "## argsort()\n"
      ]
    },
    {
      "cell_type": "markdown",
      "metadata": {
        "id": "Oz5MlA2zDBP8"
      },
      "source": [
        "> küçükten büyüğe sıralar ancak çıktıda sıralanmış değerlerin önceki indexlerini döndürür.\n"
      ]
    },
    {
      "cell_type": "code",
      "metadata": {
        "id": "T1NIvESdDGk8"
      },
      "source": [
        "arr = [15, 35, 1, 49, 26, 42, 3, 49]"
      ],
      "execution_count": null,
      "outputs": []
    },
    {
      "cell_type": "code",
      "metadata": {
        "colab": {
          "base_uri": "https://localhost:8080/"
        },
        "id": "B8XxzfQAC2sK",
        "outputId": "b1e83987-4aaa-47b7-d3c7-cf36e6820b20"
      },
      "source": [
        "np.argsort(arr)"
      ],
      "execution_count": null,
      "outputs": [
        {
          "output_type": "execute_result",
          "data": {
            "text/plain": [
              "array([2, 6, 0, 4, 1, 5, 3, 7])"
            ]
          },
          "metadata": {
            "tags": []
          },
          "execution_count": 280
        }
      ]
    },
    {
      "cell_type": "markdown",
      "metadata": {
        "id": "_zK6GuplFgES"
      },
      "source": [
        "---\n",
        "---\n",
        "# Arraylerde Indexleme\n",
        "Çok boyutlu arraylerde elemanlara erişme"
      ]
    },
    {
      "cell_type": "markdown",
      "metadata": {
        "id": "J7ItlFSohE2o"
      },
      "source": [
        "---\n",
        "## Temel Indexleme"
      ]
    },
    {
      "cell_type": "markdown",
      "metadata": {
        "id": "ejdjOW5dF4NM"
      },
      "source": [
        "> Öncelikle elemanlarına erişebilmek için bir array tanımlayalım:\n"
      ]
    },
    {
      "cell_type": "code",
      "metadata": {
        "colab": {
          "base_uri": "https://localhost:8080/"
        },
        "id": "jDZj2WytFjuw",
        "outputId": "bc52ba24-c9ba-49c6-a933-88724894039d"
      },
      "source": [
        "arr = np.arange(40).reshape(4, 10)\n",
        "arr"
      ],
      "execution_count": null,
      "outputs": [
        {
          "output_type": "execute_result",
          "data": {
            "text/plain": [
              "array([[ 0,  1,  2,  3,  4,  5,  6,  7,  8,  9],\n",
              "       [10, 11, 12, 13, 14, 15, 16, 17, 18, 19],\n",
              "       [20, 21, 22, 23, 24, 25, 26, 27, 28, 29],\n",
              "       [30, 31, 32, 33, 34, 35, 36, 37, 38, 39]])"
            ]
          },
          "metadata": {
            "tags": []
          },
          "execution_count": 281
        }
      ]
    },
    {
      "cell_type": "markdown",
      "metadata": {
        "id": "e2zCfUxOGDKQ"
      },
      "source": [
        "Arraylerde bir elemanın indexini verirken aynı `.reshape`'de verdiğimiz gibi önce satır sonra sütun veririz."
      ]
    },
    {
      "cell_type": "code",
      "metadata": {
        "colab": {
          "base_uri": "https://localhost:8080/"
        },
        "id": "_GO8JagNGAop",
        "outputId": "27428625-d377-435f-cdb7-4731842280e6"
      },
      "source": [
        "#@markdown Bu bize arrayin son satırını döndürecektir.\n",
        "arr[3]"
      ],
      "execution_count": null,
      "outputs": [
        {
          "output_type": "execute_result",
          "data": {
            "text/plain": [
              "array([30, 31, 32, 33, 34, 35, 36, 37, 38, 39])"
            ]
          },
          "metadata": {
            "tags": []
          },
          "execution_count": 282
        }
      ]
    },
    {
      "cell_type": "code",
      "metadata": {
        "colab": {
          "base_uri": "https://localhost:8080/"
        },
        "id": "305UP8PYGR5d",
        "outputId": "3632006d-188d-4870-eabb-6f13d10125ea"
      },
      "source": [
        "#@markdown Bu ise bize arrayin son satırının ilk elemanını döndürecektir. Bunu arr[3, 0] şeklinde de verebilirdik.\n",
        "arr[3][0]"
      ],
      "execution_count": null,
      "outputs": [
        {
          "output_type": "execute_result",
          "data": {
            "text/plain": [
              "30"
            ]
          },
          "metadata": {
            "tags": []
          },
          "execution_count": 283
        }
      ]
    },
    {
      "cell_type": "code",
      "metadata": {
        "colab": {
          "base_uri": "https://localhost:8080/"
        },
        "id": "SKe6arMwGZGC",
        "outputId": "01d68382-94fc-4b08-d349-c45218138b35"
      },
      "source": [
        "#@markdown Bir arrayin belli bir indexindeki değerini bu şekilde değiştirebiliriz.\n",
        "arr[3, 0] = 0\n",
        "arr"
      ],
      "execution_count": null,
      "outputs": [
        {
          "output_type": "execute_result",
          "data": {
            "text/plain": [
              "array([[ 0,  1,  2,  3,  4,  5,  6,  7,  8,  9],\n",
              "       [10, 11, 12, 13, 14, 15, 16, 17, 18, 19],\n",
              "       [20, 21, 22, 23, 24, 25, 26, 27, 28, 29],\n",
              "       [ 0, 31, 32, 33, 34, 35, 36, 37, 38, 39]])"
            ]
          },
          "metadata": {
            "tags": []
          },
          "execution_count": 284
        }
      ]
    },
    {
      "cell_type": "code",
      "metadata": {
        "colab": {
          "base_uri": "https://localhost:8080/"
        },
        "id": "0ZkdFoQQGyGD",
        "outputId": "45e1a873-b83a-4981-a98a-f0a9d126e121"
      },
      "source": [
        "#@markdown Arrayin bir indexindeki değeri arrayin sahip olduğu veri tipi dışında bir veri tipine dönüştürmek arrayin veri tipini değiştirmez. Tüm değerler arrayin veri tipine cast olur.\n",
        "arr[0, 0] = 100.15\n",
        "arr"
      ],
      "execution_count": null,
      "outputs": [
        {
          "output_type": "execute_result",
          "data": {
            "text/plain": [
              "array([[100,   1,   2,   3,   4,   5,   6,   7,   8,   9],\n",
              "       [ 10,  11,  12,  13,  14,  15,  16,  17,  18,  19],\n",
              "       [ 20,  21,  22,  23,  24,  25,  26,  27,  28,  29],\n",
              "       [  0,  31,  32,  33,  34,  35,  36,  37,  38,  39]])"
            ]
          },
          "metadata": {
            "tags": []
          },
          "execution_count": 285
        }
      ]
    },
    {
      "cell_type": "code",
      "metadata": {
        "colab": {
          "base_uri": "https://localhost:8080/",
          "height": 195
        },
        "id": "ytKK-HiyHEsI",
        "outputId": "f7ad4018-ec11-455b-aeb1-0e4b30404265"
      },
      "source": [
        "#@markdown Ancak cast dönüşümü iki basamaklıysa bu dönüşüm yapılamaz.\n",
        "arr[0, 0] = \"100.15\"\n",
        "arr"
      ],
      "execution_count": null,
      "outputs": [
        {
          "output_type": "error",
          "ename": "ValueError",
          "evalue": "ignored",
          "traceback": [
            "\u001b[0;31m---------------------------------------------------------------------------\u001b[0m",
            "\u001b[0;31mValueError\u001b[0m                                Traceback (most recent call last)",
            "\u001b[0;32m<ipython-input-286-0d0d055a5f89>\u001b[0m in \u001b[0;36m<module>\u001b[0;34m()\u001b[0m\n\u001b[1;32m      1\u001b[0m \u001b[0;31m#@markdown Ancak cast dönüşümü iki basamaklıysa bu dönüşüm yapılamaz.\u001b[0m\u001b[0;34m\u001b[0m\u001b[0;34m\u001b[0m\u001b[0;34m\u001b[0m\u001b[0m\n\u001b[0;32m----> 2\u001b[0;31m \u001b[0marr\u001b[0m\u001b[0;34m[\u001b[0m\u001b[0;36m0\u001b[0m\u001b[0;34m,\u001b[0m \u001b[0;36m0\u001b[0m\u001b[0;34m]\u001b[0m \u001b[0;34m=\u001b[0m \u001b[0;34m\"100.15\"\u001b[0m\u001b[0;34m\u001b[0m\u001b[0;34m\u001b[0m\u001b[0m\n\u001b[0m\u001b[1;32m      3\u001b[0m \u001b[0marr\u001b[0m\u001b[0;34m\u001b[0m\u001b[0;34m\u001b[0m\u001b[0m\n",
            "\u001b[0;31mValueError\u001b[0m: invalid literal for int() with base 10: '100.15'"
          ]
        }
      ]
    },
    {
      "cell_type": "markdown",
      "metadata": {
        "id": "le0_eoMnHWxT"
      },
      "source": [
        "---\n",
        "## Bölerek Indexleme (Slice Indexing)"
      ]
    },
    {
      "cell_type": "markdown",
      "metadata": {
        "id": "fJ1sI9K4HkJj"
      },
      "source": [
        "Bu özellik python liste benzemektedir. Bu nedenle yalnızca birkaç örnek yapacağız."
      ]
    },
    {
      "cell_type": "code",
      "metadata": {
        "colab": {
          "base_uri": "https://localhost:8080/"
        },
        "id": "MFWGgavNHQeY",
        "outputId": "580b9a29-17e7-417e-8eb9-0e85ed7cbda9"
      },
      "source": [
        "#@markdown Bu bize index 0'dan 3'e olan satırları getirecektir.\n",
        "arr[0:3]"
      ],
      "execution_count": null,
      "outputs": [
        {
          "output_type": "execute_result",
          "data": {
            "text/plain": [
              "array([[100,   1,   2,   3,   4,   5,   6,   7,   8,   9],\n",
              "       [ 10,  11,  12,  13,  14,  15,  16,  17,  18,  19],\n",
              "       [ 20,  21,  22,  23,  24,  25,  26,  27,  28,  29]])"
            ]
          },
          "metadata": {
            "tags": []
          },
          "execution_count": 287
        }
      ]
    },
    {
      "cell_type": "code",
      "metadata": {
        "colab": {
          "base_uri": "https://localhost:8080/"
        },
        "id": "M9zv6xRUHic0",
        "outputId": "1c9a803f-6278-442d-dc12-1290590da8d8"
      },
      "source": [
        "#@markdown Bu bize yalnızca index=2den başlayarak kalan satırları getirecektir.\n",
        "arr[2:]"
      ],
      "execution_count": null,
      "outputs": [
        {
          "output_type": "execute_result",
          "data": {
            "text/plain": [
              "array([[20, 21, 22, 23, 24, 25, 26, 27, 28, 29],\n",
              "       [ 0, 31, 32, 33, 34, 35, 36, 37, 38, 39]])"
            ]
          },
          "metadata": {
            "tags": []
          },
          "execution_count": 288
        }
      ]
    },
    {
      "cell_type": "code",
      "metadata": {
        "colab": {
          "base_uri": "https://localhost:8080/"
        },
        "id": "JEovOlN1HwoN",
        "outputId": "f392a9f4-dc95-4acd-8bef-e4b7bc4cd0db"
      },
      "source": [
        "#@markdown Bu ise index 1'den başlayarak 2 2 ilerler ve kalan tüm satırları getirir.\n",
        "arr[1::2]"
      ],
      "execution_count": null,
      "outputs": [
        {
          "output_type": "execute_result",
          "data": {
            "text/plain": [
              "array([[10, 11, 12, 13, 14, 15, 16, 17, 18, 19],\n",
              "       [ 0, 31, 32, 33, 34, 35, 36, 37, 38, 39]])"
            ]
          },
          "metadata": {
            "tags": []
          },
          "execution_count": 289
        }
      ]
    },
    {
      "cell_type": "code",
      "metadata": {
        "colab": {
          "base_uri": "https://localhost:8080/"
        },
        "id": "vwNHm03nIHhf",
        "outputId": "172760dd-369f-40e5-c274-b8e99c164db0"
      },
      "source": [
        "#@markdown index 1'deki sütunun tüm satırlarını döndürür.\n",
        "arr[:, 1]"
      ],
      "execution_count": null,
      "outputs": [
        {
          "output_type": "execute_result",
          "data": {
            "text/plain": [
              "array([ 1, 11, 21, 31])"
            ]
          },
          "metadata": {
            "tags": []
          },
          "execution_count": 290
        }
      ]
    },
    {
      "cell_type": "code",
      "metadata": {
        "colab": {
          "base_uri": "https://localhost:8080/"
        },
        "id": "OytbXAQrIXBa",
        "outputId": "ed5353c4-f42c-4ebc-c7ac-f400ebd44503"
      },
      "source": [
        "#@markdown index 1'deki sütunun 2 2 atlayarak kalan satırlarını döndürür.\n",
        "arr[::2, 1]"
      ],
      "execution_count": null,
      "outputs": [
        {
          "output_type": "execute_result",
          "data": {
            "text/plain": [
              "array([ 1, 21])"
            ]
          },
          "metadata": {
            "tags": []
          },
          "execution_count": 291
        }
      ]
    },
    {
      "cell_type": "code",
      "metadata": {
        "colab": {
          "base_uri": "https://localhost:8080/"
        },
        "id": "hMKElwZyIh4g",
        "outputId": "ade4d83c-2e22-4fe6-deb7-d31e85ab15c9"
      },
      "source": [
        "#@markdown Bu sefer hem sütun hem satırda bölerek aldık.\n",
        "arr[:2, 2:3]"
      ],
      "execution_count": null,
      "outputs": [
        {
          "output_type": "execute_result",
          "data": {
            "text/plain": [
              "array([[ 2],\n",
              "       [12]])"
            ]
          },
          "metadata": {
            "tags": []
          },
          "execution_count": 292
        }
      ]
    },
    {
      "cell_type": "markdown",
      "metadata": {
        "id": "pv6s3SDObwbh"
      },
      "source": [
        "---\n",
        "## Spesifik Indexlerdeki Değerleri Döndürme (Fancy Indexing)"
      ]
    },
    {
      "cell_type": "markdown",
      "metadata": {
        "id": "MhDoBhJFb66A"
      },
      "source": [
        "Bunu gerçekleştirmek için erişmek istediğimiz indexleri içeren bir liste oluştururuz. Sonrasında aynı indexlemede yaptığımıza benzer bir şekilde köşeli parantezler yardımıyla indexleri içeren listeyi kullanırız. "
      ]
    },
    {
      "cell_type": "code",
      "metadata": {
        "colab": {
          "base_uri": "https://localhost:8080/"
        },
        "id": "BJCCr8bTb52a",
        "outputId": "71b62cf3-71b3-44ef-bfd8-df49d8b82288"
      },
      "source": [
        "arr = np.arange(0,20,2)\n",
        "arr"
      ],
      "execution_count": null,
      "outputs": [
        {
          "output_type": "execute_result",
          "data": {
            "text/plain": [
              "array([ 0,  2,  4,  6,  8, 10, 12, 14, 16, 18])"
            ]
          },
          "metadata": {
            "tags": []
          },
          "execution_count": 293
        }
      ]
    },
    {
      "cell_type": "code",
      "metadata": {
        "colab": {
          "base_uri": "https://localhost:8080/"
        },
        "id": "jfwSUhzMcgH1",
        "outputId": "91c98fb3-105d-491a-bbdb-0541872ddc26"
      },
      "source": [
        "#@markdown Burada değerler bizim indexlerini verdiğimiz sırada döner.\n",
        "index_list = [5, 7, 9, 2, 1]\n",
        "arr[index_list]"
      ],
      "execution_count": null,
      "outputs": [
        {
          "output_type": "execute_result",
          "data": {
            "text/plain": [
              "array([10, 14, 18,  4,  2])"
            ]
          },
          "metadata": {
            "tags": []
          },
          "execution_count": 294
        }
      ]
    },
    {
      "cell_type": "code",
      "metadata": {
        "colab": {
          "base_uri": "https://localhost:8080/"
        },
        "id": "bkisuXnrc03E",
        "outputId": "d4a6ff30-bc2d-4444-880e-b169327cb1f6"
      },
      "source": [
        "#@markdown Çok boyutlu arraylerde de bu özelliği kullanabiliriz.\n",
        "arr = np.arange(20).reshape(4,5)\n",
        "arr"
      ],
      "execution_count": null,
      "outputs": [
        {
          "output_type": "execute_result",
          "data": {
            "text/plain": [
              "array([[ 0,  1,  2,  3,  4],\n",
              "       [ 5,  6,  7,  8,  9],\n",
              "       [10, 11, 12, 13, 14],\n",
              "       [15, 16, 17, 18, 19]])"
            ]
          },
          "metadata": {
            "tags": []
          },
          "execution_count": 295
        }
      ]
    },
    {
      "cell_type": "code",
      "metadata": {
        "colab": {
          "base_uri": "https://localhost:8080/"
        },
        "id": "mmUztseIdC0d",
        "outputId": "0f4a64fa-3499-4aec-fd91-04b5425e197f"
      },
      "source": [
        "#@markdown Burada satır bazında index = 2'ye sahip olan satırı alırken sütun bazında fancy indexing yaparken birden fazla elemanın indexini aldık.\n",
        "arr[2, [1, 2, 4]]"
      ],
      "execution_count": null,
      "outputs": [
        {
          "output_type": "execute_result",
          "data": {
            "text/plain": [
              "array([11, 12, 14])"
            ]
          },
          "metadata": {
            "tags": []
          },
          "execution_count": 296
        }
      ]
    },
    {
      "cell_type": "code",
      "metadata": {
        "colab": {
          "base_uri": "https://localhost:8080/"
        },
        "id": "QDRXtrZndeYU",
        "outputId": "b7ec58db-0d28-40f3-d201-1eba5624559a"
      },
      "source": [
        "#@markdown Burada satır bazında tüm satırları ele alırken sütun bazında fancy indexing yapmış olduk.\n",
        "arr[:, [1, 2, 4]]"
      ],
      "execution_count": null,
      "outputs": [
        {
          "output_type": "execute_result",
          "data": {
            "text/plain": [
              "array([[ 1,  2,  4],\n",
              "       [ 6,  7,  9],\n",
              "       [11, 12, 14],\n",
              "       [16, 17, 19]])"
            ]
          },
          "metadata": {
            "tags": []
          },
          "execution_count": 297
        }
      ]
    },
    {
      "cell_type": "code",
      "metadata": {
        "colab": {
          "base_uri": "https://localhost:8080/"
        },
        "id": "-j7FS4Tmdlix",
        "outputId": "9d5a5d12-893a-4854-d2ab-9c2a20541171"
      },
      "source": [
        "#@markdown Burada ise hem sütun hem satır bazlı bi indexing yaptık.\n",
        "arr[[0, 2, 3],[0, 3, 4]]"
      ],
      "execution_count": null,
      "outputs": [
        {
          "output_type": "execute_result",
          "data": {
            "text/plain": [
              "array([ 0, 13, 19])"
            ]
          },
          "metadata": {
            "tags": []
          },
          "execution_count": 298
        }
      ]
    },
    {
      "cell_type": "markdown",
      "metadata": {
        "id": "OSGNl6wReHVO"
      },
      "source": [
        "> ANCAK hem sütun hem satır bazlı fancy indexing yapılırken verilen listeler eşit uzunluğa sahip olmalı. Çünkü verilen satır indexleri ile sütun indexleri birebir karşılaştırılır ve kesişen elemanlar döndürülür.\n",
        "\n",
        "> Örnekten gidecek olursak arrayimizin:\n",
        "* 0. satırında ve 0. sütununda bulunan elemanını\n",
        "* 2. satırında ve 3. sütununda bulunan elemanını\n",
        "* 3. satırında ve 4. sütununda bulunan elamanını\n",
        "elde etmiş olduk."
      ]
    },
    {
      "cell_type": "code",
      "metadata": {
        "colab": {
          "base_uri": "https://localhost:8080/"
        },
        "id": "RPQFBRu1fZW9",
        "outputId": "931396e5-45c6-4e0c-b080-2e147cab4e76"
      },
      "source": [
        "#@markdown Ayrıca fancy indexingi döndürdüğümüz indexlerdeki değerleri değiştirmek için de kullanabiliriz.\n",
        "arr[[0, 2, 3],[0, 3, 4]] = [100, 120, 130]\n",
        "arr"
      ],
      "execution_count": null,
      "outputs": [
        {
          "output_type": "execute_result",
          "data": {
            "text/plain": [
              "array([[100,   1,   2,   3,   4],\n",
              "       [  5,   6,   7,   8,   9],\n",
              "       [ 10,  11,  12, 120,  14],\n",
              "       [ 15,  16,  17,  18, 130]])"
            ]
          },
          "metadata": {
            "tags": []
          },
          "execution_count": 299
        }
      ]
    },
    {
      "cell_type": "markdown",
      "metadata": {
        "id": "h-Kwr3XRg7-H"
      },
      "source": [
        "---\n",
        "## Indexing Yaparken Koşul Verme (Conditional Indexing)\n"
      ]
    },
    {
      "cell_type": "code",
      "metadata": {
        "colab": {
          "base_uri": "https://localhost:8080/"
        },
        "id": "tTZ_l2djg-kh",
        "outputId": "e2a0a1e8-ddb3-48f4-dd5c-329d9f7e13ed"
      },
      "source": [
        "arr = np.arange(10)\n",
        "arr"
      ],
      "execution_count": null,
      "outputs": [
        {
          "output_type": "execute_result",
          "data": {
            "text/plain": [
              "array([0, 1, 2, 3, 4, 5, 6, 7, 8, 9])"
            ]
          },
          "metadata": {
            "tags": []
          },
          "execution_count": 300
        }
      ]
    },
    {
      "cell_type": "code",
      "metadata": {
        "colab": {
          "base_uri": "https://localhost:8080/"
        },
        "id": "O3vRIRUEh4-k",
        "outputId": "c5cb0069-ecae-44d4-c5c4-9393d62ecf7d"
      },
      "source": [
        "#@markdown Eğer direkt olarak arrayi bir koşulda kullanırsak arrayin her bir elemanı koşulda sınanır ve array uzunluğunda bool (True/False) değerlerden oluşan bir array çıktısı alırız.\n",
        "arr > 5"
      ],
      "execution_count": null,
      "outputs": [
        {
          "output_type": "execute_result",
          "data": {
            "text/plain": [
              "array([False, False, False, False, False, False,  True,  True,  True,\n",
              "        True])"
            ]
          },
          "metadata": {
            "tags": []
          },
          "execution_count": 301
        }
      ]
    },
    {
      "cell_type": "code",
      "metadata": {
        "colab": {
          "base_uri": "https://localhost:8080/"
        },
        "id": "DdTjT6fXiFRJ",
        "outputId": "006ec504-5e99-4937-c377-aa257cd86bfa"
      },
      "source": [
        "#@markdown Ancak koşulu indexing yapar gibi köşeli parantezler yardımıyla verirsek bu durumda koşulu sağlayan elemanlar bir array olarak dönecektir.\n",
        "arr[arr > 5]"
      ],
      "execution_count": null,
      "outputs": [
        {
          "output_type": "execute_result",
          "data": {
            "text/plain": [
              "array([6, 7, 8, 9])"
            ]
          },
          "metadata": {
            "tags": []
          },
          "execution_count": 302
        }
      ]
    },
    {
      "cell_type": "markdown",
      "metadata": {
        "id": "YGns6iKjiQvw"
      },
      "source": [
        "> Koşulu yalnızca tek bir arrayin elemanları üzerinden vermek zorunda değiliz. İki array arasında da koşullardan yararlanabiliriz."
      ]
    },
    {
      "cell_type": "code",
      "metadata": {
        "colab": {
          "base_uri": "https://localhost:8080/"
        },
        "id": "LHNuTAICiYVE",
        "outputId": "02e0be0e-14fb-4f06-ae91-6bd9e92f7598"
      },
      "source": [
        "arr2 = np.arange(0, 20, 2)\n",
        "arr2"
      ],
      "execution_count": null,
      "outputs": [
        {
          "output_type": "execute_result",
          "data": {
            "text/plain": [
              "array([ 0,  2,  4,  6,  8, 10, 12, 14, 16, 18])"
            ]
          },
          "metadata": {
            "tags": []
          },
          "execution_count": 303
        }
      ]
    },
    {
      "cell_type": "code",
      "metadata": {
        "colab": {
          "base_uri": "https://localhost:8080/"
        },
        "id": "0muHgPXJicfL",
        "outputId": "793fd166-e1d7-45ce-9d9e-8ec15c667a69"
      },
      "source": [
        "#@markdown İki array arasında indexler karşılıklı olarak karşılaştırıldı ve bize aynı indexte aynı eleman bulunuyorsa yalnızca o eleman döndü.\n",
        "arr[arr == arr2]"
      ],
      "execution_count": null,
      "outputs": [
        {
          "output_type": "execute_result",
          "data": {
            "text/plain": [
              "array([0])"
            ]
          },
          "metadata": {
            "tags": []
          },
          "execution_count": 304
        }
      ]
    },
    {
      "cell_type": "code",
      "metadata": {
        "colab": {
          "base_uri": "https://localhost:8080/"
        },
        "id": "9QIoGd0lji8k",
        "outputId": "36d66d3b-7644-414a-86be-076633ef4bfb"
      },
      "source": [
        "#@markdown Birden fazla koşul ve/veya ile bağlanacaksa bu durumda bu koşulların short circuit halleriyle yani `|` ve `&` operatörleriyle koşullar verilmelidir. \n",
        "arr[(arr >= 2) & (arr <= 6)]"
      ],
      "execution_count": null,
      "outputs": [
        {
          "output_type": "execute_result",
          "data": {
            "text/plain": [
              "array([2, 3, 4, 5, 6])"
            ]
          },
          "metadata": {
            "tags": []
          },
          "execution_count": 305
        }
      ]
    },
    {
      "cell_type": "code",
      "metadata": {
        "colab": {
          "base_uri": "https://localhost:8080/"
        },
        "id": "RyXBumYWkGGG",
        "outputId": "877486e1-5fa6-4f03-9a80-032451042dd9"
      },
      "source": [
        "#@markdown Yazılan koşulun değilinin alınması için tilda (`~`) işaretinden yararlanılır.\n",
        "arr[~((arr >= 2) & (arr <= 6))]"
      ],
      "execution_count": null,
      "outputs": [
        {
          "output_type": "execute_result",
          "data": {
            "text/plain": [
              "array([0, 1, 7, 8, 9])"
            ]
          },
          "metadata": {
            "tags": []
          },
          "execution_count": 306
        }
      ]
    },
    {
      "cell_type": "markdown",
      "metadata": {
        "id": "fOYXOdY-kTRI"
      },
      "source": [
        "> Birden fazla boyutlu arraylerde koşul verilirken dönen değerler çok boyutlu bir array şeklinde değil yalnızca tek boyutlu bir array (sayı öbeği) şeklinde döner. "
      ]
    },
    {
      "cell_type": "code",
      "metadata": {
        "colab": {
          "base_uri": "https://localhost:8080/"
        },
        "id": "952-mOB4khUr",
        "outputId": "e3801d3d-aca3-4436-9e7d-2e596dd666d1"
      },
      "source": [
        "arr = np.arange(20).reshape(4,5)\n",
        "arr"
      ],
      "execution_count": null,
      "outputs": [
        {
          "output_type": "execute_result",
          "data": {
            "text/plain": [
              "array([[ 0,  1,  2,  3,  4],\n",
              "       [ 5,  6,  7,  8,  9],\n",
              "       [10, 11, 12, 13, 14],\n",
              "       [15, 16, 17, 18, 19]])"
            ]
          },
          "metadata": {
            "tags": []
          },
          "execution_count": 307
        }
      ]
    },
    {
      "cell_type": "code",
      "metadata": {
        "colab": {
          "base_uri": "https://localhost:8080/"
        },
        "id": "QJyHUSyHklEz",
        "outputId": "81d4eebd-eb6c-42f0-db7e-ab7d4824a8fc"
      },
      "source": [
        "arr[arr>10]"
      ],
      "execution_count": null,
      "outputs": [
        {
          "output_type": "execute_result",
          "data": {
            "text/plain": [
              "array([11, 12, 13, 14, 15, 16, 17, 18, 19])"
            ]
          },
          "metadata": {
            "tags": []
          },
          "execution_count": 308
        }
      ]
    },
    {
      "cell_type": "markdown",
      "metadata": {
        "id": "0ln4cqzcKiU1"
      },
      "source": [
        "---\n",
        "---\n",
        "# Subarray Mantığı\n",
        "Arrayimizin alt arrayi"
      ]
    },
    {
      "cell_type": "markdown",
      "metadata": {
        "id": "LyxSnfGOK2nT"
      },
      "source": [
        "Arraylerde de python liste benzer bir hafızaya kaydetme mantığı vardır. Bu nedenle bir arrayin subarrayi üzerinde işlem yapmak aslında ana array üzerinde de işlem yapmak anlamına gelmektedir."
      ]
    },
    {
      "cell_type": "code",
      "metadata": {
        "colab": {
          "base_uri": "https://localhost:8080/"
        },
        "id": "RVO964tTKl6U",
        "outputId": "020e4db6-1da5-4ed6-88c5-c5fa64f5e87b"
      },
      "source": [
        "arr = np.arange(40).reshape(4, 10)\n",
        "subarr = arr[1:, 2:5]\n",
        "\n",
        "\n",
        "print(\"Ana arrayimiz:\\n\\n\", arr)\n",
        "print(\"\\n\", \"-\"*40)\n",
        "print(\"\\nSubarrayimiz:\\n\\n\", subarr)"
      ],
      "execution_count": null,
      "outputs": [
        {
          "output_type": "stream",
          "text": [
            "Ana arrayimiz:\n",
            "\n",
            " [[ 0  1  2  3  4  5  6  7  8  9]\n",
            " [10 11 12 13 14 15 16 17 18 19]\n",
            " [20 21 22 23 24 25 26 27 28 29]\n",
            " [30 31 32 33 34 35 36 37 38 39]]\n",
            "\n",
            " ----------------------------------------\n",
            "\n",
            "Subarrayimiz:\n",
            "\n",
            " [[12 13 14]\n",
            " [22 23 24]\n",
            " [32 33 34]]\n"
          ],
          "name": "stdout"
        }
      ]
    },
    {
      "cell_type": "code",
      "metadata": {
        "colab": {
          "base_uri": "https://localhost:8080/"
        },
        "id": "CW2pHqOkLSvl",
        "outputId": "e0fe8f6e-fea0-4f1b-efd3-0688abc45ca2"
      },
      "source": [
        "#@markdown Subarrayimiz üzerinde işlem yapalım ve subarray ile ana array üzerinde değişiklik olmuş mu inceleyelim.\n",
        "subarr[2,0] = 100\n",
        "\n",
        "\n",
        "print(\"Değişiklikten sonra subarrayimiz:\\n\\n\", subarr)\n",
        "print(\"\\n\", \"-\"*40)\n",
        "print(\"\\nDeğişiklikten sonra ana arrayimiz:\\n\\n\", arr)\n"
      ],
      "execution_count": null,
      "outputs": [
        {
          "output_type": "stream",
          "text": [
            "Değişiklikten sonra subarrayimiz:\n",
            "\n",
            " [[ 12  13  14]\n",
            " [ 22  23  24]\n",
            " [100  33  34]]\n",
            "\n",
            " ----------------------------------------\n",
            "\n",
            "Değişiklikten sonra ana arrayimiz:\n",
            "\n",
            " [[  0   1   2   3   4   5   6   7   8   9]\n",
            " [ 10  11  12  13  14  15  16  17  18  19]\n",
            " [ 20  21  22  23  24  25  26  27  28  29]\n",
            " [ 30  31 100  33  34  35  36  37  38  39]]\n"
          ],
          "name": "stdout"
        }
      ]
    },
    {
      "cell_type": "markdown",
      "metadata": {
        "id": "2uRaFdOZLVBg"
      },
      "source": [
        "> Eğer ana array üzerinde işlem yapılmak istenmiyorsa, değişikliğin yalnızca subarray üzerine etkimesi isteniyorsa `.copy()` metodunden yararlanılmalıdır. Bu sayede artık iki array hafızada aynı yeri işaret etmez, subarrayimiz hafızada ayrı bir yere shaip olur."
      ]
    },
    {
      "cell_type": "code",
      "metadata": {
        "colab": {
          "base_uri": "https://localhost:8080/"
        },
        "id": "XZ3QxrRDLEfw",
        "outputId": "e2dd0bdf-c408-4dee-ee86-2251afd684b3"
      },
      "source": [
        "arr = np.arange(40).reshape(4, 10) # Ana arrayimiz\n",
        "copyarr = arr[1:, 2:5].copy() # Kopya arrayimiz\n",
        "\n",
        "copyarr[2,0] = 100 # Kopya arrayimiz üzerinde işlemimiz\n",
        "\n",
        "print(\"Ana arrayimiz:\\n\\n\", arr)\n",
        "print(\"\\n\", \"-\"*40)\n",
        "print(\"Kopya arrayimiz:\\n\\n\", copyarr)\n",
        "print(\"\\n\", \"-\"*40)\n",
        "print(\"Değişiklikten sonra kopya arrayimiz:\\n\\n\", copyarr)\n",
        "print(\"\\n\", \"-\"*40)\n",
        "print(\"\\nDeğişiklikten sonra ana arrayimiz:\\n\\n\", arr)"
      ],
      "execution_count": null,
      "outputs": [
        {
          "output_type": "stream",
          "text": [
            "Ana arrayimiz:\n",
            "\n",
            " [[ 0  1  2  3  4  5  6  7  8  9]\n",
            " [10 11 12 13 14 15 16 17 18 19]\n",
            " [20 21 22 23 24 25 26 27 28 29]\n",
            " [30 31 32 33 34 35 36 37 38 39]]\n",
            "\n",
            " ----------------------------------------\n",
            "Kopya arrayimiz:\n",
            "\n",
            " [[ 12  13  14]\n",
            " [ 22  23  24]\n",
            " [100  33  34]]\n",
            "\n",
            " ----------------------------------------\n",
            "Değişiklikten sonra kopya arrayimiz:\n",
            "\n",
            " [[ 12  13  14]\n",
            " [ 22  23  24]\n",
            " [100  33  34]]\n",
            "\n",
            " ----------------------------------------\n",
            "\n",
            "Değişiklikten sonra ana arrayimiz:\n",
            "\n",
            " [[ 0  1  2  3  4  5  6  7  8  9]\n",
            " [10 11 12 13 14 15 16 17 18 19]\n",
            " [20 21 22 23 24 25 26 27 28 29]\n",
            " [30 31 32 33 34 35 36 37 38 39]]\n"
          ],
          "name": "stdout"
        }
      ]
    },
    {
      "cell_type": "markdown",
      "metadata": {
        "id": "xHGRH3nSp-Nm"
      },
      "source": [
        "---\n",
        "---\n",
        "# Array Elemanları ile Toplu İşlemler"
      ]
    },
    {
      "cell_type": "markdown",
      "metadata": {
        "id": "YQ98MiJokuGG"
      },
      "source": [
        "---\n",
        "## sum() Metodu"
      ]
    },
    {
      "cell_type": "markdown",
      "metadata": {
        "id": "qOUX-i3Prw3H"
      },
      "source": [
        "Bir arrayin elemanlarını toplamak için kullanılır."
      ]
    },
    {
      "cell_type": "markdown",
      "metadata": {
        "id": "R-ns3ezZk7f_"
      },
      "source": [
        "Kullanım şekli:\n",
        "```python\n",
        "np.sum(array)\n",
        "```"
      ]
    },
    {
      "cell_type": "code",
      "metadata": {
        "colab": {
          "base_uri": "https://localhost:8080/"
        },
        "id": "RQ9DaHhTkzR2",
        "outputId": "a7da833a-ff74-4831-9d3c-cb96a8d10ffd"
      },
      "source": [
        "arr = np.arange(20).reshape(5,4)\n",
        "arr"
      ],
      "execution_count": null,
      "outputs": [
        {
          "output_type": "execute_result",
          "data": {
            "text/plain": [
              "array([[ 0,  1,  2,  3],\n",
              "       [ 4,  5,  6,  7],\n",
              "       [ 8,  9, 10, 11],\n",
              "       [12, 13, 14, 15],\n",
              "       [16, 17, 18, 19]])"
            ]
          },
          "metadata": {
            "tags": []
          },
          "execution_count": 312
        }
      ]
    },
    {
      "cell_type": "code",
      "metadata": {
        "colab": {
          "base_uri": "https://localhost:8080/"
        },
        "id": "yXDQB_3ZlIvK",
        "outputId": "acf7df51-86ec-44e1-d6a7-29c6e0994d0f"
      },
      "source": [
        "#@markdown Arrayin tüm elemanlarını toplamış olduk.\n",
        "np.sum(arr)"
      ],
      "execution_count": null,
      "outputs": [
        {
          "output_type": "execute_result",
          "data": {
            "text/plain": [
              "190"
            ]
          },
          "metadata": {
            "tags": []
          },
          "execution_count": 313
        }
      ]
    },
    {
      "cell_type": "code",
      "metadata": {
        "colab": {
          "base_uri": "https://localhost:8080/"
        },
        "id": "awIvabNOlLPW",
        "outputId": "9a53ddaa-7e16-404e-e8f3-666ed41eb668"
      },
      "source": [
        "#@markdown Koşul vererek arrayin yalnızca 10'dan büyük elemanlarını toplamış olduk.\n",
        "np.sum(arr[(arr > 10)])"
      ],
      "execution_count": null,
      "outputs": [
        {
          "output_type": "execute_result",
          "data": {
            "text/plain": [
              "135"
            ]
          },
          "metadata": {
            "tags": []
          },
          "execution_count": 314
        }
      ]
    },
    {
      "cell_type": "markdown",
      "metadata": {
        "id": "kQBhq5fER6w1"
      },
      "source": [
        "Axis bazlı .sum () metodunu nasıl kullandığımıza bir bakalım.\n",
        "\n",
        "![](https://www.programmersought.com/images/204/357bdcc35c9cbd123dce1855aec99184.gif)"
      ]
    },
    {
      "cell_type": "code",
      "metadata": {
        "colab": {
          "base_uri": "https://localhost:8080/"
        },
        "id": "lVCddGoWmD9Q",
        "outputId": "72db5a9b-274b-4e91-a26c-7baa319995d8"
      },
      "source": [
        "#@markdown Array elemanlarını arrayi tek satıra indirgeyecekmiş gibi toplar. Yani ilk eleman için ele aldığımızda; (0 + 4 + 8 + 12 + 16) = 40\n",
        "np.sum(arr, axis = 0)"
      ],
      "execution_count": null,
      "outputs": [
        {
          "output_type": "execute_result",
          "data": {
            "text/plain": [
              "array([40, 45, 50, 55])"
            ]
          },
          "metadata": {
            "tags": []
          },
          "execution_count": 315
        }
      ]
    },
    {
      "cell_type": "code",
      "metadata": {
        "colab": {
          "base_uri": "https://localhost:8080/"
        },
        "id": "hyI-13cnmbWc",
        "outputId": "2fd245e3-4d9e-4a71-a7a7-a71a94b97169"
      },
      "source": [
        "#@markdown Array elemanlarını arrayi tek sütuna indirgeyecekmiş gibi toplar. Yani ilk eleman için ele aldığımızda; (0 + 1 + 2 + 3) = 6\n",
        "np.sum(arr, axis = 1)"
      ],
      "execution_count": null,
      "outputs": [
        {
          "output_type": "execute_result",
          "data": {
            "text/plain": [
              "array([ 6, 22, 38, 54, 70])"
            ]
          },
          "metadata": {
            "tags": []
          },
          "execution_count": 316
        }
      ]
    },
    {
      "cell_type": "markdown",
      "metadata": {
        "id": "Vtg99BdfldVb"
      },
      "source": [
        "> Bu metodu farklı amaçlarla da kullanabiliriz. Örneğin bir koşulumuz var ve bu koşulun arrayin kaç elemanı tarafından sağlandığını öğrenmek istiyoruz. Arrayi direkt koşul içerisinde kullandığımızda array uzunluğunda bool değerlerden oluşan bir array elde ettiğimizi hatırlayalım. Buradaki True değerler aynı zamanda 1'e de karşılık geleceği için sum() metoduyla amacımıza ulaşabiliriz. "
      ]
    },
    {
      "cell_type": "code",
      "metadata": {
        "colab": {
          "base_uri": "https://localhost:8080/"
        },
        "id": "j6xweuF8lR6m",
        "outputId": "56594caa-da96-464c-b3ac-983315a02298"
      },
      "source": [
        "#@markdown Arrayimizin kaç elemanının 10'dan büyük olduğuna bakalım.\n",
        "np.sum(arr > 10)"
      ],
      "execution_count": null,
      "outputs": [
        {
          "output_type": "execute_result",
          "data": {
            "text/plain": [
              "9"
            ]
          },
          "metadata": {
            "tags": []
          },
          "execution_count": 317
        }
      ]
    },
    {
      "cell_type": "markdown",
      "metadata": {
        "id": "bNsf3o-sp5W5"
      },
      "source": [
        "---\n",
        "## all() Metodu"
      ]
    },
    {
      "cell_type": "markdown",
      "metadata": {
        "id": "kOk6obWjqCOV"
      },
      "source": [
        "Bir arrayin bütün elemanlarının verilen koşula uyup uymadığının kontrolünü yapar.\n"
      ]
    },
    {
      "cell_type": "markdown",
      "metadata": {
        "id": "mrgw-_vXqJxd"
      },
      "source": [
        "Kullanım şekli:\n",
        "```python\n",
        "np.all(kosul)\n",
        "```"
      ]
    },
    {
      "cell_type": "code",
      "metadata": {
        "colab": {
          "base_uri": "https://localhost:8080/"
        },
        "id": "VDVb6i0el4gP",
        "outputId": "1c2ddf54-ca46-40ab-aaed-73e8582ac071"
      },
      "source": [
        "arr = np.arange(0, 20, 2).reshape(2,5)\n",
        "arr"
      ],
      "execution_count": null,
      "outputs": [
        {
          "output_type": "execute_result",
          "data": {
            "text/plain": [
              "array([[ 0,  2,  4,  6,  8],\n",
              "       [10, 12, 14, 16, 18]])"
            ]
          },
          "metadata": {
            "tags": []
          },
          "execution_count": 318
        }
      ]
    },
    {
      "cell_type": "code",
      "metadata": {
        "colab": {
          "base_uri": "https://localhost:8080/"
        },
        "id": "U77FTmIfsKRM",
        "outputId": "330f9e36-2f9b-4da0-ad6e-4f02aadef533"
      },
      "source": [
        "#@markdown Öncelikle koşulumuzun Bool çıktısına bir bakalım.\n",
        "arr > 5"
      ],
      "execution_count": null,
      "outputs": [
        {
          "output_type": "execute_result",
          "data": {
            "text/plain": [
              "array([[False, False, False,  True,  True],\n",
              "       [ True,  True,  True,  True,  True]])"
            ]
          },
          "metadata": {
            "tags": []
          },
          "execution_count": 319
        }
      ]
    },
    {
      "cell_type": "code",
      "metadata": {
        "colab": {
          "base_uri": "https://localhost:8080/"
        },
        "id": "Qn9_6-AEqoaJ",
        "outputId": "dcb2193d-4911-43fe-c94f-cc08b04a993e"
      },
      "source": [
        "#@markdown Arrayin içerisinde 9'dan küçük elemanlar da olduğu için False döndürdü.\n",
        "np.all(arr > 5)"
      ],
      "execution_count": null,
      "outputs": [
        {
          "output_type": "execute_result",
          "data": {
            "text/plain": [
              "False"
            ]
          },
          "metadata": {
            "tags": []
          },
          "execution_count": 320
        }
      ]
    },
    {
      "cell_type": "code",
      "metadata": {
        "colab": {
          "base_uri": "https://localhost:8080/"
        },
        "id": "mvADDxnAsQkJ",
        "outputId": "3673b0cf-b15e-476c-a0f0-d996627b8bd4"
      },
      "source": [
        "#@markdown Öncelikle koşulumuzun Bool çıktısına bir bakalım.\n",
        "arr % 2 == 0"
      ],
      "execution_count": null,
      "outputs": [
        {
          "output_type": "execute_result",
          "data": {
            "text/plain": [
              "array([[ True,  True,  True,  True,  True],\n",
              "       [ True,  True,  True,  True,  True]])"
            ]
          },
          "metadata": {
            "tags": []
          },
          "execution_count": 321
        }
      ]
    },
    {
      "cell_type": "code",
      "metadata": {
        "colab": {
          "base_uri": "https://localhost:8080/"
        },
        "id": "CtZ3zPVBqXY_",
        "outputId": "e5f6136d-f649-464a-8374-334f8420aef7"
      },
      "source": [
        "#@markdown Arrayin tüm elemanları çift sayı olduğundan True döndürdü.\n",
        "np.all(arr % 2 == 0)"
      ],
      "execution_count": null,
      "outputs": [
        {
          "output_type": "execute_result",
          "data": {
            "text/plain": [
              "True"
            ]
          },
          "metadata": {
            "tags": []
          },
          "execution_count": 322
        }
      ]
    },
    {
      "cell_type": "markdown",
      "metadata": {
        "id": "GIwv69C9q01M"
      },
      "source": [
        "> Bu metodu da sum()'da olduğu gibi axis bazlı bakabiliriz."
      ]
    },
    {
      "cell_type": "code",
      "metadata": {
        "colab": {
          "base_uri": "https://localhost:8080/"
        },
        "id": "xdHBczqFqZvP",
        "outputId": "cf40341b-521d-4ab1-c184-cbf8e98d3c99"
      },
      "source": [
        "#@markdown Axis=0 doğrultusunda bakacaktır bu nedenle 5 adet Bool değer döndürür. index = 4 ve sonraki sütunlarda bu koşul sağlandığı için yalnızca son iki değer True dönecektir.\n",
        "np.all(arr > 5, axis = 0)"
      ],
      "execution_count": null,
      "outputs": [
        {
          "output_type": "execute_result",
          "data": {
            "text/plain": [
              "array([False, False, False,  True,  True])"
            ]
          },
          "metadata": {
            "tags": []
          },
          "execution_count": 323
        }
      ]
    },
    {
      "cell_type": "code",
      "metadata": {
        "colab": {
          "base_uri": "https://localhost:8080/"
        },
        "id": "3_ljGQTDrT3i",
        "outputId": "82caf62e-8fd5-4c46-ccaa-37d41a9634ed"
      },
      "source": [
        "#@markdown Axis=1 doğrultusunda bakacaktır bu nedenle 2 adet Bool değer döndürür. İlk satırın tüm elemanları koşulu sağlamadığı için False, ikinci satırın tüm elemanları koşulu sağladığı için True döndürür.\n",
        "np.all(arr > 5, axis = 1)"
      ],
      "execution_count": null,
      "outputs": [
        {
          "output_type": "execute_result",
          "data": {
            "text/plain": [
              "array([False,  True])"
            ]
          },
          "metadata": {
            "tags": []
          },
          "execution_count": 324
        }
      ]
    },
    {
      "cell_type": "markdown",
      "metadata": {
        "id": "7ATdUyEfr31m"
      },
      "source": [
        "## any() Metodu"
      ]
    },
    {
      "cell_type": "markdown",
      "metadata": {
        "id": "6dfMG40cr7lH"
      },
      "source": [
        "Arrayin herhangi bir elemanının verilen koşulu sağlayıp sağlamadığının kontrolünü yapar. np.all() metoduna çok benzer bir yapıya sahiptir."
      ]
    },
    {
      "cell_type": "markdown",
      "metadata": {
        "id": "ZVHlO2ySsGxj"
      },
      "source": [
        "Kullanım şekli:\n",
        "```python\n",
        "np.any(kosul)\n",
        "```"
      ]
    },
    {
      "cell_type": "code",
      "metadata": {
        "colab": {
          "base_uri": "https://localhost:8080/"
        },
        "id": "BIfiLdoRrYqJ",
        "outputId": "a7931687-bc8c-4e89-adc5-a1bfa8d06676"
      },
      "source": [
        "arr = np.arange(0, 20, 2).reshape(2,5)\n",
        "arr"
      ],
      "execution_count": null,
      "outputs": [
        {
          "output_type": "execute_result",
          "data": {
            "text/plain": [
              "array([[ 0,  2,  4,  6,  8],\n",
              "       [10, 12, 14, 16, 18]])"
            ]
          },
          "metadata": {
            "tags": []
          },
          "execution_count": 325
        }
      ]
    },
    {
      "cell_type": "code",
      "metadata": {
        "colab": {
          "base_uri": "https://localhost:8080/"
        },
        "id": "u7TE-pDssptv",
        "outputId": "a691d540-d48f-4991-a710-c17166d3bdca"
      },
      "source": [
        "#@markdown Öncelikle koşulumuzun Bool çıktısına bir bakalım.\n",
        "arr > 16"
      ],
      "execution_count": null,
      "outputs": [
        {
          "output_type": "execute_result",
          "data": {
            "text/plain": [
              "array([[False, False, False, False, False],\n",
              "       [False, False, False, False,  True]])"
            ]
          },
          "metadata": {
            "tags": []
          },
          "execution_count": 326
        }
      ]
    },
    {
      "cell_type": "code",
      "metadata": {
        "colab": {
          "base_uri": "https://localhost:8080/"
        },
        "id": "EXW_Nfbosc3W",
        "outputId": "49cac840-1e6b-4e94-f263-8ec2dc80d61e"
      },
      "source": [
        "#@markdown Arrayin en az 1 elemanı koşulu sağladığı için True döner.\n",
        "np.any(arr > 16)"
      ],
      "execution_count": null,
      "outputs": [
        {
          "output_type": "execute_result",
          "data": {
            "text/plain": [
              "True"
            ]
          },
          "metadata": {
            "tags": []
          },
          "execution_count": 327
        }
      ]
    },
    {
      "cell_type": "markdown",
      "metadata": {
        "id": "0cOCP5V6swXT"
      },
      "source": [
        "> Bu metodu da axis bazlı kullanabiliriz."
      ]
    },
    {
      "cell_type": "code",
      "metadata": {
        "colab": {
          "base_uri": "https://localhost:8080/"
        },
        "id": "znxEDMeesoGf",
        "outputId": "de2e78f3-f7a2-42d2-f521-93abbfce72ff"
      },
      "source": [
        "#@markdown Axis=0 doğrultusunda bakacaktır bu nedenle 5 adet Bool değer döndürür. Yalnızca son sütunda en az 1 eleman koşulu sağladığı için son eleman True, kalanı False döner.\n",
        "np.any(arr > 16, axis = 0)"
      ],
      "execution_count": null,
      "outputs": [
        {
          "output_type": "execute_result",
          "data": {
            "text/plain": [
              "array([False, False, False, False,  True])"
            ]
          },
          "metadata": {
            "tags": []
          },
          "execution_count": 328
        }
      ]
    },
    {
      "cell_type": "code",
      "metadata": {
        "colab": {
          "base_uri": "https://localhost:8080/"
        },
        "id": "SHBbkuhKs07m",
        "outputId": "325de241-d29a-4c3e-fdce-745303fde14c"
      },
      "source": [
        "#@markdown Axis=1 doğrultusunda bakacaktır bu nedenle 2 adet Bool değer döndürür. İlk satırın herhangi bir elemanı koşulu sağlamadığı için False, ikinci satırın en az 1 elemanı koşulu sağladığı için True döner.\n",
        "np.any(arr > 16, axis = 1)"
      ],
      "execution_count": null,
      "outputs": [
        {
          "output_type": "execute_result",
          "data": {
            "text/plain": [
              "array([False,  True])"
            ]
          },
          "metadata": {
            "tags": []
          },
          "execution_count": 329
        }
      ]
    },
    {
      "cell_type": "markdown",
      "metadata": {
        "id": "rjfstqjp9Loo"
      },
      "source": [
        "---\n",
        "---\n",
        "# Numpy Cheatsheet\n",
        "Tüm konuları özetlemek adına numpy'ın en çok kullanılan özelliklerini içeren bir cheatsheet\n",
        "\n",
        "Not : Daha okunaklı olması açısından görüntüyü yeni sekmede açmanızı tavsiye ederim. "
      ]
    },
    {
      "cell_type": "markdown",
      "metadata": {
        "id": "iRc3nvWn9QT3"
      },
      "source": [
        "![](https://cdn-images-1.medium.com/max/2560/1*7nAmFA6nKv_XvyKLRCFK4g.png)"
      ]
    },
    {
      "cell_type": "markdown",
      "metadata": {
        "id": "F_zl9huDxVGb"
      },
      "source": [
        "---\n",
        "---\n",
        "# Bana Ulaşın!!"
      ]
    },
    {
      "cell_type": "markdown",
      "metadata": {
        "id": "vUqjWiaqxX-x"
      },
      "source": [
        "[<img height=\"32\" width=\"32\" src=\"https://simpleicons.org/icons/linkedin.svg\"/>](https://www.linkedin.com/in/secilaykutal/)\n",
        "[<img height=\"32\" width=\"32\" src=\"https://simpleicons.org/icons/github.svg\"/>](https://github.com/seccily/)\n",
        "[<img height=\"32\" width=\"32\" src=\"https://simpleicons.org/icons/gmail.svg\"/>](mailto:secilaykutal99@gmail.com)\n"
      ]
    }
  ]
}