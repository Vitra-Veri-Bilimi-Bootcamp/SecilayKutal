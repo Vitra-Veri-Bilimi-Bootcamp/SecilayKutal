{
 "cells": [
  {
   "cell_type": "markdown",
   "metadata": {},
   "source": [
    "# Bu notebook \"Patika.dev-Python Temel\" kursunun bitirme projesidir."
   ]
  },
  {
   "cell_type": "markdown",
   "metadata": {},
   "source": [
    "#### Soru-1: Bir listeyi düzleştiren (flatten) fonksiyon yazın. Elemanları birden çok katmanlı listtlerden ([[3],2] gibi) oluşabileceği gibi, non-scalar verilerden de oluşabilir.\n",
    "---"
   ]
  },
  {
   "cell_type": "raw",
   "metadata": {},
   "source": [
    "ÖRNEK\n",
    "----------------\n",
    "\n",
    "input: [[1,'a',['cat'],2],[[[3]],'dog'],4,5]\n",
    "\n",
    "output: [1,'a','cat',2,3,'dog',4,5]"
   ]
  },
  {
   "cell_type": "markdown",
   "metadata": {},
   "source": [
    "---"
   ]
  },
  {
   "cell_type": "code",
   "execution_count": 4,
   "metadata": {},
   "outputs": [],
   "source": [
    "flatlist = []                   # fonksiyonda kullanmak üzere boş bir liste tanımlıyoruz\n",
    "\n",
    "def flat(l):                    # anlaşılır isimde bir fonksiyon tanımlayalım\n",
    "\n",
    "    for e in l:                 # fonksiyon girdisi olan listenin her bir elemanını alıyoruz\n",
    "                                # e= elements, l=list\n",
    "        \n",
    "        if type(e) == list:     # aldığımız her elemanı liste mi diye kontrol ediyoruz\n",
    "            flat(e)             # eğer listeyse ana fonksiyon işlemlerinin tekrarlanması için geri gönderiyoruz \n",
    "        \n",
    "        else:\n",
    "            flatlist.append(e)  # eğer liste değilse tanımladığımız boş listeye elemanı ekliyoruz\n",
    "    \n",
    "    return flatlist             # en son elde ettiğimiz listeyi return ediyoruz\n"
   ]
  },
  {
   "cell_type": "code",
   "execution_count": 5,
   "metadata": {},
   "outputs": [],
   "source": [
    "listoflists = [[1,'a',['cat'],2],[[[3]],'dog'],4,5]    # listeler içeren örnek bir liste tanımı"
   ]
  },
  {
   "cell_type": "code",
   "execution_count": 6,
   "metadata": {
    "scrolled": false
   },
   "outputs": [
    {
     "data": {
      "text/plain": [
       "[1, 'a', 'cat', 2, 3, 'dog', 4, 5]"
      ]
     },
     "execution_count": 6,
     "metadata": {},
     "output_type": "execute_result"
    }
   ],
   "source": [
    "flat(listoflists)                                      # fonksiyonun çağırılması"
   ]
  },
  {
   "cell_type": "markdown",
   "metadata": {},
   "source": [
    "#### Soru-2: Verilen listenin içindeki elemanları tersine döndüren bir fonksiyon yazın. Eğer listenin içindeki elemanlar da liste içeriyorsa onların elemanlarını da tersine döndürün. \n",
    "\n",
    "---"
   ]
  },
  {
   "cell_type": "raw",
   "metadata": {},
   "source": [
    "ÖRNEK\n",
    "----------------\n",
    "\n",
    "input: [[1, 2], [3, 4], [5, 6, 7]]\n",
    "\n",
    "output: [[[7, 6, 5], [4, 3], [2, 1]]\n"
   ]
  },
  {
   "cell_type": "markdown",
   "metadata": {},
   "source": [
    "---"
   ]
  },
  {
   "cell_type": "code",
   "execution_count": 7,
   "metadata": {},
   "outputs": [],
   "source": [
    "def reverse(l):\n",
    "    \n",
    "    for i in range(len(l)):           # fonksiyon girdisi olan listenin her bir elemanını alıyoruz\n",
    "        \n",
    "        if isinstance(l[i], list):    # aldığımız her elemanı liste mi diye kontrol ediyoruz\n",
    "            l[i] = l[i][::-1]         # eğer listeyse listeyi tersine çevirip ana listede bulunduğu indise tekrar yazıyoruz \n",
    "    \n",
    "    reversed_list = l[::-1]           # her bir eleman kontrol edildikten sonra elde edilen yeni listeyi tersine çeviriyoruz\n",
    "    \n",
    "    return reversed_list              # elde ettiğimiz son listeyi return ediyoruz"
   ]
  },
  {
   "cell_type": "code",
   "execution_count": 8,
   "metadata": {},
   "outputs": [],
   "source": [
    "listoflists = [[1, 2], [3, 4], [5, 6, 7]]   # listelerden oluşmuş örnek bir liste tanımı"
   ]
  },
  {
   "cell_type": "code",
   "execution_count": 9,
   "metadata": {
    "scrolled": false
   },
   "outputs": [
    {
     "data": {
      "text/plain": [
       "[[7, 6, 5], [4, 3], [2, 1]]"
      ]
     },
     "execution_count": 9,
     "metadata": {},
     "output_type": "execute_result"
    }
   ],
   "source": [
    "reverse(listoflists)                        # fonksiyonun çağırılması"
   ]
  }
 ],
 "metadata": {
  "kernelspec": {
   "display_name": "Python 3",
   "language": "python",
   "name": "python3"
  },
  "language_info": {
   "codemirror_mode": {
    "name": "ipython",
    "version": 3
   },
   "file_extension": ".py",
   "mimetype": "text/x-python",
   "name": "python",
   "nbconvert_exporter": "python",
   "pygments_lexer": "ipython3",
   "version": "3.8.5"
  }
 },
 "nbformat": 4,
 "nbformat_minor": 4
}
